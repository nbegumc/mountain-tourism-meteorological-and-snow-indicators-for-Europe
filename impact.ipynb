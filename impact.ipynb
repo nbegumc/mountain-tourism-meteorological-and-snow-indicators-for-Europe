{
 "cells": [
  {
   "cell_type": "code",
   "execution_count": 17,
   "metadata": {},
   "outputs": [],
   "source": [
    "# ! pip install cdsapi\n",
    "import cdsapi\n",
    "import xarray as xr\n",
    "import netCDF4\n",
    "import pandas as pd\n",
    "import numpy as np\n",
    "\n",
    "import warnings\n",
    "warnings.filterwarnings('ignore')\n",
    "\n",
    "import plotly.express as px\n",
    "import plotly.graph_objects as go\n"
   ]
  },
  {
   "cell_type": "code",
   "execution_count": 2,
   "metadata": {},
   "outputs": [],
   "source": [
    "import json\n",
    "with open(\"C:/Users/NAZLIC/.cdsapirc/cds-config.json\") as c:\n",
    "    config = json.load(c)\n",
    "\n",
    "url = config['url']\n",
    "key = config['key']\n",
    "\n",
    "cds = cdsapi.Client(url=url,key=key)"
   ]
  },
  {
   "cell_type": "code",
   "execution_count": 3,
   "metadata": {},
   "outputs": [
    {
     "name": "stderr",
     "output_type": "stream",
     "text": [
      "2023-05-01 18:47:13,725 INFO Welcome to the CDS\n",
      "2023-05-01 18:47:13,726 INFO Sending request to https://cds.climate.copernicus.eu/api/v2/resources/sis-tourism-snow-indicators\n",
      "2023-05-01 18:47:14,088 INFO Request is completed\n",
      "2023-05-01 18:47:14,089 INFO Downloading https://download-0001-clone.copernicus-climate.eu/cache-compute-0001/cache/data3/dataset-sis-tourism-snow-indicators-7bae6299-7792-4d97-b601-5ac526860c43.zip to download.zip (14.9M)\n",
      "2023-05-01 18:47:17,337 INFO Download rate 4.6M/s   \n"
     ]
    },
    {
     "data": {
      "text/plain": [
       "Result(content_length=15655164,content_type=application/zip,location=https://download-0001-clone.copernicus-climate.eu/cache-compute-0001/cache/data3/dataset-sis-tourism-snow-indicators-7bae6299-7792-4d97-b601-5ac526860c43.zip)"
      ]
     },
     "execution_count": 3,
     "metadata": {},
     "output_type": "execute_result"
    }
   ],
   "source": [
    "cds.retrieve(\n",
    "    'sis-tourism-snow-indicators',\n",
    "    {\n",
    "        'format': 'zip',\n",
    "        'time_aggregation': 'annual_data',\n",
    "        'variable': [\n",
    "            'annual_amount_of_machine_made_snow_produced', 'end_of_the_longest_period_with_natural_snow', 'mean_winter_air_temperature',\n",
    "            'monthly_mean_air_temperature_for_february', 'period_with_high_amount_of_natural_snow', 'period_with_high_height_of_natural_snow',\n",
    "            'period_with_low_height_of_natural_snow', 'period_with_medium_height_of_natural_snow',\n",
    "            'snow_making_hours_for_WBT_lower_than_negative_2_degc', 'start_of_the_longest_period_with_natural_snow', 'total_precipitation_from_november_to_april',\n",
    "            'total_snow_precipitation_from_november_to_april',\n",
    "        ],\n",
    "        'experiment': 'rcp4_5',\n",
    "        'rcm': 'cclm4_8_17',\n",
    "        'year': [\n",
    "            '2005', '2006', '2007',\n",
    "            '2008', '2009', '2010',\n",
    "            '2011', '2012', '2013',\n",
    "            '2014', '2015', '2016',\n",
    "            '2017', '2018', '2019',\n",
    "            '2020', '2021', '2022',\n",
    "            '2023', '2024', '2025',\n",
    "            '2026', '2027', '2028',\n",
    "            '2029', '2030',\n",
    "        ],\n",
    "        'version': '1_0',\n",
    "        'gcm': 'mpi_esm_lr',\n",
    "    },\n",
    "    'download.zip')"
   ]
  },
  {
   "cell_type": "code",
   "execution_count": 4,
   "metadata": {},
   "outputs": [],
   "source": [
    "ds1 = xr.open_mfdataset('download/beginning-season*.nc')\n",
    "ds2 = xr.open_mfdataset('download/end-season*.nc')\n",
    "\n",
    "ds3 = xr.open_mfdataset('download/mm-prod*.nc')\n",
    "\n",
    "ds4 = xr.open_mfdataset('download/precipitation-amount-winter*.nc')\n",
    "ds5 = xr.open_mfdataset('download/snowfall-amount-winter*.nc')\n",
    "\n",
    "ds6 = xr.open_mfdataset('download/sd-days-5-*.nc')\n",
    "ds7 = xr.open_mfdataset('download/sd-days-30*.nc')\n",
    "ds8 = xr.open_mfdataset('download/sd-days-50*.nc')\n",
    "\n",
    "ds9 = xr.open_mfdataset('download/swe-days-120*.nc')\n",
    "\n",
    "ds10 = xr.open_mfdataset('download/tas-winter*.nc')\n",
    "ds11 = xr.open_mfdataset('download/tas-02*.nc')\n",
    "\n",
    "ds12 = xr.open_mfdataset('download/wbt-2-hrs*.nc')\n",
    "\n",
    "\n",
    "\n",
    "\n",
    "ds1.to_netcdf('download/beginning-season-combined.nc')\n",
    "ds2.to_netcdf('download/end-season-combined.nc')\n",
    "ds3.to_netcdf('download/mm-prod-combined.nc')\n",
    "ds4.to_netcdf('download/precipitation-amount-winter-combined.nc')\n",
    "ds5.to_netcdf('download/snowfall-amount-winter-combined.nc')\n",
    "ds6.to_netcdf('download/natural_sd-days-5-combined.nc')\n",
    "ds7.to_netcdf('download/natural_sd-days-30-combined.nc')\n",
    "ds8.to_netcdf('download/natural_sd-days-50-combined.nc')\n",
    "ds9.to_netcdf('download/swe-days-120-natural-combined.nc')\n",
    "ds10.to_netcdf('download/tas-winter-combined.nc')\n",
    "ds11.to_netcdf('download/tas-02-combined.nc')\n",
    "ds12.to_netcdf('download/wbt-2-hrs-combined.nc')\n",
    "\n",
    "\n"
   ]
  },
  {
   "cell_type": "code",
   "execution_count": 5,
   "metadata": {},
   "outputs": [],
   "source": [
    "df_beginning_season=xr.open_dataset('download/beginning-season-combined.nc').to_dataframe().rename(columns={'beginning_end_of_season':'beginning_of_season'}).reset_index()\n",
    "df_end_season=xr.open_dataset('download/end-season-combined.nc').to_dataframe().rename(columns={'beginning_end_of_season':'end_of_season'}).reset_index()\n",
    "df_mm_prod=xr.open_dataset('download/mm-prod-combined.nc').to_dataframe().reset_index()\n",
    "df_total_winter_precipitation=xr.open_dataset('download/precipitation-amount-winter-combined.nc').to_dataframe().rename(columns={'precipitation_amount':'total_winter_precipitation_amount'}).reset_index()\n",
    "df_snow_precipitation_nov_apr=xr.open_dataset('download/snowfall-amount-winter-combined.nc').to_dataframe().rename(columns={'snowfall_amount':'snow_precipitation_amount_nov_apr'}).reset_index()\n",
    "df_natural_sd_days_low=xr.open_dataset('download/natural_sd-days-5-combined.nc').to_dataframe().rename(columns={'sd_days':'sd_days_low'}).reset_index()\n",
    "df_natural_sd_days_medium=xr.open_dataset('download/natural_sd-days-30-combined.nc').to_dataframe().rename(columns={'sd_days':'sd_days_medium'}).reset_index()\n",
    "df_natural_sd_days_high=xr.open_dataset('download/natural_sd-days-50-combined.nc').to_dataframe().rename(columns={'sd_days':'sd_days_high'}).reset_index()\n",
    "df_swe_days_high_natural=xr.open_dataset('download/swe-days-120-natural-combined.nc').to_dataframe().rename(columns={'swe_days':'swe_days_natural_high'}).reset_index()\n",
    "df_tas_winter=xr.open_dataset('download/tas-winter-combined.nc').to_dataframe().rename(columns={'tas':'mean_winter_tas'}).reset_index()\n",
    "df_tas_02=xr.open_dataset('download/tas-02-combined.nc').to_dataframe().rename(columns={'tas':'mean_feb_tas'}).reset_index()\n",
    "df_wbt_2_hrs=xr.open_dataset('download/wbt-2-hrs-combined.nc').to_dataframe().rename(columns={'wbt_hrs':'smh_wbt_lower2'}).reset_index()\n"
   ]
  },
  {
   "cell_type": "code",
   "execution_count": 6,
   "metadata": {},
   "outputs": [
    {
     "data": {
      "text/plain": [
       "((171184, 7),\n",
       " (171184, 7),\n",
       " (171184, 7),\n",
       " (171184, 7),\n",
       " (171184, 7),\n",
       " (171184, 7),\n",
       " (171184, 7),\n",
       " (171184, 7),\n",
       " (171184, 7),\n",
       " (171184, 7),\n",
       " (164600, 7),\n",
       " (171184, 7))"
      ]
     },
     "execution_count": 6,
     "metadata": {},
     "output_type": "execute_result"
    }
   ],
   "source": [
    "df_beginning_season.shape,df_end_season.shape,df_mm_prod.shape,df_total_winter_precipitation.shape,df_snow_precipitation_nov_apr.shape,df_natural_sd_days_low.shape,df_natural_sd_days_medium.shape,df_natural_sd_days_high.shape,df_swe_days_high_natural.shape,df_tas_winter.shape,df_tas_02.shape,df_wbt_2_hrs.shape\n"
   ]
  },
  {
   "cell_type": "code",
   "execution_count": 7,
   "metadata": {},
   "outputs": [],
   "source": [
    "df=df_beginning_season.merge(df_end_season,how='left',on=['time','Number_of_points','LAT','LON','NUTS3_ID','ZS'])\n",
    "df=df.merge(df_mm_prod,how='left',on=['time','Number_of_points','LAT','LON','NUTS3_ID','ZS'])\n",
    "df=df.merge(df_total_winter_precipitation,how='left',on=['time','Number_of_points','LAT','LON','NUTS3_ID','ZS'])\n",
    "df=df.merge(df_snow_precipitation_nov_apr,how='left',on=['time','Number_of_points','LAT','LON','NUTS3_ID','ZS'])\n",
    "df=df.merge(df_natural_sd_days_low,how='left',on=['time','Number_of_points','LAT','LON','NUTS3_ID','ZS'])\n",
    "df=df.merge(df_natural_sd_days_medium,how='left',on=['time','Number_of_points','LAT','LON','NUTS3_ID','ZS'])\n",
    "df=df.merge(df_natural_sd_days_high,how='left',on=['time','Number_of_points','LAT','LON','NUTS3_ID','ZS'])\n",
    "df=df.merge(df_swe_days_high_natural,how='left',on=['time','Number_of_points','LAT','LON','NUTS3_ID','ZS'])\n",
    "df=df.merge(df_tas_winter,how='left',on=['time','Number_of_points','LAT','LON','NUTS3_ID','ZS'])\n",
    "df=df.merge(df_tas_02,how='left',on=['time','Number_of_points','LAT','LON','NUTS3_ID','ZS'])\n",
    "df=df.merge(df_wbt_2_hrs,how='left',on=['time','Number_of_points','LAT','LON','NUTS3_ID','ZS'])\n",
    "df['time']=pd.to_datetime(df.time).dt.year"
   ]
  },
  {
   "cell_type": "code",
   "execution_count": 8,
   "metadata": {},
   "outputs": [],
   "source": [
    "df.to_csv('download/weather_indicators_RCP45.csv')"
   ]
  },
  {
   "attachments": {},
   "cell_type": "markdown",
   "metadata": {},
   "source": [
    "* **LAT** : Latitude\n",
    "* **LON** : Longitude\n",
    "* **NUTS3_ID** : NUTS regions\n",
    "* **ZS** : Altitude\n",
    "* **beginning_end_of_season** : Beginning/End of season, i.e. first date/last date of the longest continuous period with at least 30 cm of natural, groomed or managed snow on the ground \n",
    "* **mm_prod** : Annual amount of machine made snow produced (in kg m-2) - Value of the total amount of snow produced for the period August 1st of year N-1 to July 31st of year N (using managed snow simulations)\n",
    "* **precipitation_amount**:Total precipitation in a given time period -Cumulative value of snowfall and rain precipitation over a given period of year N-1/N\n",
    "* **snowfall_amount** : Total snow precipitation from November to April -Cumulative value of snowfall precipitation over a given period of year N-1/N\n",
    "* **sd_days** : Number of days with at least XX cm of natural, groomed or managed snow on the ground in a given time period (annual, Christmas or Purisma period) low,medium or high of natural snow\n",
    "* **swe_days**: Snow water equivalent - Period with high amount of natural snow i Number of days with an amount of at least XX kg m-2 of natural, groomed or managed snow on the ground in a given time period \n",
    "* **tas** : air_temperature,Average of 6-hourly air temperature for all dates in a given month or period of year N, Mean winter air temperature or Monthly mean air temperature for February \n",
    "* **wbt_hrs** :  Early season potential snowmaking hours (for wet bulb temperature lower than -X°C),Snow making hours for WBT lower than -2°C,(Compute wet bulb temperature TWBT from temperature and relative humidity, every 6 hours, Interpolate linearly to hourly time resolution, Compute number of hours, from November 1st of year N-1 to December 31st of year N-1, for which TWBT≤-X°C)\n",
    "\n",
    "\n",
    "\n",
    "\n",
    "\n"
   ]
  },
  {
   "cell_type": "code",
   "execution_count": 45,
   "metadata": {},
   "outputs": [
    {
     "data": {
      "text/html": [
       "<div>\n",
       "<style scoped>\n",
       "    .dataframe tbody tr th:only-of-type {\n",
       "        vertical-align: middle;\n",
       "    }\n",
       "\n",
       "    .dataframe tbody tr th {\n",
       "        vertical-align: top;\n",
       "    }\n",
       "\n",
       "    .dataframe thead th {\n",
       "        text-align: right;\n",
       "    }\n",
       "</style>\n",
       "<table border=\"1\" class=\"dataframe\">\n",
       "  <thead>\n",
       "    <tr style=\"text-align: right;\">\n",
       "      <th></th>\n",
       "      <th>time</th>\n",
       "      <th>Number_of_points</th>\n",
       "      <th>LAT</th>\n",
       "      <th>LON</th>\n",
       "      <th>NUTS3_ID</th>\n",
       "      <th>ZS</th>\n",
       "      <th>beginning_of_season</th>\n",
       "      <th>end_of_season</th>\n",
       "      <th>mm_prod</th>\n",
       "      <th>total_winter_precipitation_amount</th>\n",
       "      <th>snow_precipitation_amount_nov_apr</th>\n",
       "      <th>sd_days_low</th>\n",
       "      <th>sd_days_medium</th>\n",
       "      <th>sd_days_high</th>\n",
       "      <th>swe_days_natural_high</th>\n",
       "      <th>mean_winter_tas</th>\n",
       "      <th>mean_feb_tas</th>\n",
       "      <th>smh_wbt_lower2</th>\n",
       "    </tr>\n",
       "  </thead>\n",
       "  <tbody>\n",
       "    <tr>\n",
       "      <th>0</th>\n",
       "      <td>2005</td>\n",
       "      <td>0</td>\n",
       "      <td>27.954432</td>\n",
       "      <td>-15.593537</td>\n",
       "      <td>b'ES705'</td>\n",
       "      <td>800.0</td>\n",
       "      <td>0.0</td>\n",
       "      <td>0.0</td>\n",
       "      <td>0.000000</td>\n",
       "      <td>167.006989</td>\n",
       "      <td>0.000000</td>\n",
       "      <td>0.0</td>\n",
       "      <td>0.0</td>\n",
       "      <td>0.0</td>\n",
       "      <td>0.0</td>\n",
       "      <td>287.351807</td>\n",
       "      <td>NaN</td>\n",
       "      <td>0.0</td>\n",
       "    </tr>\n",
       "    <tr>\n",
       "      <th>1</th>\n",
       "      <td>2005</td>\n",
       "      <td>1</td>\n",
       "      <td>27.954432</td>\n",
       "      <td>-15.593537</td>\n",
       "      <td>b'ES705'</td>\n",
       "      <td>600.0</td>\n",
       "      <td>0.0</td>\n",
       "      <td>0.0</td>\n",
       "      <td>0.000000</td>\n",
       "      <td>181.558365</td>\n",
       "      <td>0.000000</td>\n",
       "      <td>0.0</td>\n",
       "      <td>0.0</td>\n",
       "      <td>0.0</td>\n",
       "      <td>0.0</td>\n",
       "      <td>288.646790</td>\n",
       "      <td>NaN</td>\n",
       "      <td>0.0</td>\n",
       "    </tr>\n",
       "    <tr>\n",
       "      <th>2</th>\n",
       "      <td>2005</td>\n",
       "      <td>2</td>\n",
       "      <td>27.954432</td>\n",
       "      <td>-15.593537</td>\n",
       "      <td>b'ES705'</td>\n",
       "      <td>1200.0</td>\n",
       "      <td>0.0</td>\n",
       "      <td>0.0</td>\n",
       "      <td>0.000000</td>\n",
       "      <td>182.738403</td>\n",
       "      <td>0.000000</td>\n",
       "      <td>0.0</td>\n",
       "      <td>0.0</td>\n",
       "      <td>0.0</td>\n",
       "      <td>0.0</td>\n",
       "      <td>285.536316</td>\n",
       "      <td>NaN</td>\n",
       "      <td>0.0</td>\n",
       "    </tr>\n",
       "    <tr>\n",
       "      <th>3</th>\n",
       "      <td>2005</td>\n",
       "      <td>3</td>\n",
       "      <td>27.954432</td>\n",
       "      <td>-15.593537</td>\n",
       "      <td>b'ES705'</td>\n",
       "      <td>1100.0</td>\n",
       "      <td>0.0</td>\n",
       "      <td>0.0</td>\n",
       "      <td>0.000000</td>\n",
       "      <td>175.328857</td>\n",
       "      <td>0.000000</td>\n",
       "      <td>0.0</td>\n",
       "      <td>0.0</td>\n",
       "      <td>0.0</td>\n",
       "      <td>0.0</td>\n",
       "      <td>285.771698</td>\n",
       "      <td>NaN</td>\n",
       "      <td>0.0</td>\n",
       "    </tr>\n",
       "    <tr>\n",
       "      <th>4</th>\n",
       "      <td>2005</td>\n",
       "      <td>4</td>\n",
       "      <td>27.954432</td>\n",
       "      <td>-15.593537</td>\n",
       "      <td>b'ES705'</td>\n",
       "      <td>900.0</td>\n",
       "      <td>0.0</td>\n",
       "      <td>0.0</td>\n",
       "      <td>0.000000</td>\n",
       "      <td>180.355087</td>\n",
       "      <td>0.000000</td>\n",
       "      <td>0.0</td>\n",
       "      <td>0.0</td>\n",
       "      <td>0.0</td>\n",
       "      <td>0.0</td>\n",
       "      <td>286.787964</td>\n",
       "      <td>NaN</td>\n",
       "      <td>0.0</td>\n",
       "    </tr>\n",
       "    <tr>\n",
       "      <th>...</th>\n",
       "      <td>...</td>\n",
       "      <td>...</td>\n",
       "      <td>...</td>\n",
       "      <td>...</td>\n",
       "      <td>...</td>\n",
       "      <td>...</td>\n",
       "      <td>...</td>\n",
       "      <td>...</td>\n",
       "      <td>...</td>\n",
       "      <td>...</td>\n",
       "      <td>...</td>\n",
       "      <td>...</td>\n",
       "      <td>...</td>\n",
       "      <td>...</td>\n",
       "      <td>...</td>\n",
       "      <td>...</td>\n",
       "      <td>...</td>\n",
       "      <td>...</td>\n",
       "    </tr>\n",
       "    <tr>\n",
       "      <th>171179</th>\n",
       "      <td>2030</td>\n",
       "      <td>6579</td>\n",
       "      <td>69.948990</td>\n",
       "      <td>25.849001</td>\n",
       "      <td>b'NO073'</td>\n",
       "      <td>0.0</td>\n",
       "      <td>111.0</td>\n",
       "      <td>296.0</td>\n",
       "      <td>177.119995</td>\n",
       "      <td>401.817017</td>\n",
       "      <td>321.879211</td>\n",
       "      <td>212.0</td>\n",
       "      <td>186.0</td>\n",
       "      <td>167.0</td>\n",
       "      <td>164.0</td>\n",
       "      <td>268.487030</td>\n",
       "      <td>265.086395</td>\n",
       "      <td>1274.0</td>\n",
       "    </tr>\n",
       "    <tr>\n",
       "      <th>171180</th>\n",
       "      <td>2030</td>\n",
       "      <td>6580</td>\n",
       "      <td>67.728989</td>\n",
       "      <td>26.324612</td>\n",
       "      <td>b'FI1D7'</td>\n",
       "      <td>100.0</td>\n",
       "      <td>121.0</td>\n",
       "      <td>272.0</td>\n",
       "      <td>254.880005</td>\n",
       "      <td>175.918335</td>\n",
       "      <td>156.037964</td>\n",
       "      <td>186.0</td>\n",
       "      <td>152.0</td>\n",
       "      <td>106.0</td>\n",
       "      <td>82.0</td>\n",
       "      <td>267.703491</td>\n",
       "      <td>265.029968</td>\n",
       "      <td>1371.0</td>\n",
       "    </tr>\n",
       "    <tr>\n",
       "      <th>171181</th>\n",
       "      <td>2030</td>\n",
       "      <td>6581</td>\n",
       "      <td>69.948990</td>\n",
       "      <td>25.849001</td>\n",
       "      <td>b'NO073'</td>\n",
       "      <td>700.0</td>\n",
       "      <td>105.0</td>\n",
       "      <td>305.0</td>\n",
       "      <td>203.039993</td>\n",
       "      <td>321.357025</td>\n",
       "      <td>306.597443</td>\n",
       "      <td>221.0</td>\n",
       "      <td>201.0</td>\n",
       "      <td>171.0</td>\n",
       "      <td>159.0</td>\n",
       "      <td>264.339783</td>\n",
       "      <td>260.427979</td>\n",
       "      <td>1428.0</td>\n",
       "    </tr>\n",
       "    <tr>\n",
       "      <th>171182</th>\n",
       "      <td>2030</td>\n",
       "      <td>6582</td>\n",
       "      <td>69.948990</td>\n",
       "      <td>25.849001</td>\n",
       "      <td>b'NO073'</td>\n",
       "      <td>200.0</td>\n",
       "      <td>124.0</td>\n",
       "      <td>270.0</td>\n",
       "      <td>232.199997</td>\n",
       "      <td>202.593430</td>\n",
       "      <td>181.069763</td>\n",
       "      <td>192.0</td>\n",
       "      <td>147.0</td>\n",
       "      <td>117.0</td>\n",
       "      <td>97.0</td>\n",
       "      <td>267.260529</td>\n",
       "      <td>262.707764</td>\n",
       "      <td>1364.0</td>\n",
       "    </tr>\n",
       "    <tr>\n",
       "      <th>171183</th>\n",
       "      <td>2030</td>\n",
       "      <td>6583</td>\n",
       "      <td>69.948990</td>\n",
       "      <td>25.849001</td>\n",
       "      <td>b'NO073'</td>\n",
       "      <td>100.0</td>\n",
       "      <td>125.0</td>\n",
       "      <td>275.0</td>\n",
       "      <td>234.360001</td>\n",
       "      <td>223.282944</td>\n",
       "      <td>192.615692</td>\n",
       "      <td>194.0</td>\n",
       "      <td>151.0</td>\n",
       "      <td>124.0</td>\n",
       "      <td>103.0</td>\n",
       "      <td>267.924866</td>\n",
       "      <td>263.130829</td>\n",
       "      <td>1346.0</td>\n",
       "    </tr>\n",
       "  </tbody>\n",
       "</table>\n",
       "<p>171184 rows × 18 columns</p>\n",
       "</div>"
      ],
      "text/plain": [
       "        time  Number_of_points        LAT        LON  NUTS3_ID      ZS  \\\n",
       "0       2005                 0  27.954432 -15.593537  b'ES705'   800.0   \n",
       "1       2005                 1  27.954432 -15.593537  b'ES705'   600.0   \n",
       "2       2005                 2  27.954432 -15.593537  b'ES705'  1200.0   \n",
       "3       2005                 3  27.954432 -15.593537  b'ES705'  1100.0   \n",
       "4       2005                 4  27.954432 -15.593537  b'ES705'   900.0   \n",
       "...      ...               ...        ...        ...       ...     ...   \n",
       "171179  2030              6579  69.948990  25.849001  b'NO073'     0.0   \n",
       "171180  2030              6580  67.728989  26.324612  b'FI1D7'   100.0   \n",
       "171181  2030              6581  69.948990  25.849001  b'NO073'   700.0   \n",
       "171182  2030              6582  69.948990  25.849001  b'NO073'   200.0   \n",
       "171183  2030              6583  69.948990  25.849001  b'NO073'   100.0   \n",
       "\n",
       "        beginning_of_season  end_of_season     mm_prod  \\\n",
       "0                       0.0            0.0    0.000000   \n",
       "1                       0.0            0.0    0.000000   \n",
       "2                       0.0            0.0    0.000000   \n",
       "3                       0.0            0.0    0.000000   \n",
       "4                       0.0            0.0    0.000000   \n",
       "...                     ...            ...         ...   \n",
       "171179                111.0          296.0  177.119995   \n",
       "171180                121.0          272.0  254.880005   \n",
       "171181                105.0          305.0  203.039993   \n",
       "171182                124.0          270.0  232.199997   \n",
       "171183                125.0          275.0  234.360001   \n",
       "\n",
       "        total_winter_precipitation_amount  snow_precipitation_amount_nov_apr  \\\n",
       "0                              167.006989                           0.000000   \n",
       "1                              181.558365                           0.000000   \n",
       "2                              182.738403                           0.000000   \n",
       "3                              175.328857                           0.000000   \n",
       "4                              180.355087                           0.000000   \n",
       "...                                   ...                                ...   \n",
       "171179                         401.817017                         321.879211   \n",
       "171180                         175.918335                         156.037964   \n",
       "171181                         321.357025                         306.597443   \n",
       "171182                         202.593430                         181.069763   \n",
       "171183                         223.282944                         192.615692   \n",
       "\n",
       "        sd_days_low  sd_days_medium  sd_days_high  swe_days_natural_high  \\\n",
       "0               0.0             0.0           0.0                    0.0   \n",
       "1               0.0             0.0           0.0                    0.0   \n",
       "2               0.0             0.0           0.0                    0.0   \n",
       "3               0.0             0.0           0.0                    0.0   \n",
       "4               0.0             0.0           0.0                    0.0   \n",
       "...             ...             ...           ...                    ...   \n",
       "171179        212.0           186.0         167.0                  164.0   \n",
       "171180        186.0           152.0         106.0                   82.0   \n",
       "171181        221.0           201.0         171.0                  159.0   \n",
       "171182        192.0           147.0         117.0                   97.0   \n",
       "171183        194.0           151.0         124.0                  103.0   \n",
       "\n",
       "        mean_winter_tas  mean_feb_tas  smh_wbt_lower2  \n",
       "0            287.351807           NaN             0.0  \n",
       "1            288.646790           NaN             0.0  \n",
       "2            285.536316           NaN             0.0  \n",
       "3            285.771698           NaN             0.0  \n",
       "4            286.787964           NaN             0.0  \n",
       "...                 ...           ...             ...  \n",
       "171179       268.487030    265.086395          1274.0  \n",
       "171180       267.703491    265.029968          1371.0  \n",
       "171181       264.339783    260.427979          1428.0  \n",
       "171182       267.260529    262.707764          1364.0  \n",
       "171183       267.924866    263.130829          1346.0  \n",
       "\n",
       "[171184 rows x 18 columns]"
      ]
     },
     "execution_count": 45,
     "metadata": {},
     "output_type": "execute_result"
    }
   ],
   "source": [
    "df"
   ]
  },
  {
   "attachments": {},
   "cell_type": "markdown",
   "metadata": {},
   "source": [
    "* **NUTS3 code for Milan**: ITC4C\n",
    "* **NUTS3 code for Cortina d'Ampezzo (*Belluno*)**: ITH33 "
   ]
  },
  {
   "cell_type": "code",
   "execution_count": 10,
   "metadata": {},
   "outputs": [
    {
     "data": {
      "text/plain": [
       "b'TR621'    728\n",
       "b'ITC14'    728\n",
       "b'CH012'    728\n",
       "b'CH021'    728\n",
       "b'ITC12'    728\n",
       "           ... \n",
       "b'DEB34'     26\n",
       "b'DE126'     26\n",
       "b'DE257'     26\n",
       "b'DEB3G'     26\n",
       "b'DEC03'     26\n",
       "Name: NUTS3_ID, Length: 1517, dtype: int64"
      ]
     },
     "execution_count": 10,
     "metadata": {},
     "output_type": "execute_result"
    }
   ],
   "source": [
    "df.NUTS3_ID.value_counts()"
   ]
  },
  {
   "cell_type": "code",
   "execution_count": 31,
   "metadata": {},
   "outputs": [
    {
     "data": {
      "text/html": [
       "<div>\n",
       "<style scoped>\n",
       "    .dataframe tbody tr th:only-of-type {\n",
       "        vertical-align: middle;\n",
       "    }\n",
       "\n",
       "    .dataframe tbody tr th {\n",
       "        vertical-align: top;\n",
       "    }\n",
       "\n",
       "    .dataframe thead th {\n",
       "        text-align: right;\n",
       "    }\n",
       "</style>\n",
       "<table border=\"1\" class=\"dataframe\">\n",
       "  <thead>\n",
       "    <tr style=\"text-align: right;\">\n",
       "      <th></th>\n",
       "      <th>time</th>\n",
       "      <th>Number_of_points</th>\n",
       "      <th>LAT</th>\n",
       "      <th>LON</th>\n",
       "      <th>NUTS3_ID</th>\n",
       "      <th>ZS</th>\n",
       "      <th>beginning_of_season</th>\n",
       "      <th>end_of_season</th>\n",
       "      <th>mm_prod</th>\n",
       "      <th>total_winter_precipitation_amount</th>\n",
       "      <th>snow_precipitation_amount_nov_apr</th>\n",
       "      <th>sd_days_low</th>\n",
       "      <th>sd_days_medium</th>\n",
       "      <th>sd_days_high</th>\n",
       "      <th>swe_days_natural_high</th>\n",
       "      <th>mean_winter_tas</th>\n",
       "      <th>mean_feb_tas</th>\n",
       "      <th>smh_wbt_lower2</th>\n",
       "      <th>season_duration</th>\n",
       "    </tr>\n",
       "  </thead>\n",
       "  <tbody>\n",
       "    <tr>\n",
       "      <th>3556</th>\n",
       "      <td>2005</td>\n",
       "      <td>3556</td>\n",
       "      <td>46.314655</td>\n",
       "      <td>12.169589</td>\n",
       "      <td>b'ITH33'</td>\n",
       "      <td>600.0</td>\n",
       "      <td>0.0</td>\n",
       "      <td>0.0</td>\n",
       "      <td>379.079987</td>\n",
       "      <td>239.533264</td>\n",
       "      <td>11.850979</td>\n",
       "      <td>29.0</td>\n",
       "      <td>0.0</td>\n",
       "      <td>0.0</td>\n",
       "      <td>0.0</td>\n",
       "      <td>3.718323</td>\n",
       "      <td>0.000000</td>\n",
       "      <td>687.0</td>\n",
       "      <td>0.0</td>\n",
       "    </tr>\n",
       "    <tr>\n",
       "      <th>3557</th>\n",
       "      <td>2005</td>\n",
       "      <td>3557</td>\n",
       "      <td>46.314655</td>\n",
       "      <td>12.169589</td>\n",
       "      <td>b'ITH33'</td>\n",
       "      <td>700.0</td>\n",
       "      <td>0.0</td>\n",
       "      <td>0.0</td>\n",
       "      <td>388.799988</td>\n",
       "      <td>306.103790</td>\n",
       "      <td>13.974283</td>\n",
       "      <td>19.0</td>\n",
       "      <td>0.0</td>\n",
       "      <td>0.0</td>\n",
       "      <td>0.0</td>\n",
       "      <td>3.504303</td>\n",
       "      <td>0.000000</td>\n",
       "      <td>694.0</td>\n",
       "      <td>0.0</td>\n",
       "    </tr>\n",
       "    <tr>\n",
       "      <th>3614</th>\n",
       "      <td>2005</td>\n",
       "      <td>3614</td>\n",
       "      <td>46.314655</td>\n",
       "      <td>12.169589</td>\n",
       "      <td>b'ITH33'</td>\n",
       "      <td>1200.0</td>\n",
       "      <td>0.0</td>\n",
       "      <td>0.0</td>\n",
       "      <td>352.079987</td>\n",
       "      <td>333.887329</td>\n",
       "      <td>69.742935</td>\n",
       "      <td>61.0</td>\n",
       "      <td>0.0</td>\n",
       "      <td>0.0</td>\n",
       "      <td>0.0</td>\n",
       "      <td>1.150848</td>\n",
       "      <td>0.000000</td>\n",
       "      <td>977.0</td>\n",
       "      <td>0.0</td>\n",
       "    </tr>\n",
       "    <tr>\n",
       "      <th>3615</th>\n",
       "      <td>2005</td>\n",
       "      <td>3615</td>\n",
       "      <td>46.314655</td>\n",
       "      <td>12.169589</td>\n",
       "      <td>b'ITH33'</td>\n",
       "      <td>1000.0</td>\n",
       "      <td>0.0</td>\n",
       "      <td>0.0</td>\n",
       "      <td>358.559998</td>\n",
       "      <td>296.237610</td>\n",
       "      <td>32.037964</td>\n",
       "      <td>42.0</td>\n",
       "      <td>0.0</td>\n",
       "      <td>0.0</td>\n",
       "      <td>0.0</td>\n",
       "      <td>2.566956</td>\n",
       "      <td>0.000000</td>\n",
       "      <td>763.0</td>\n",
       "      <td>0.0</td>\n",
       "    </tr>\n",
       "    <tr>\n",
       "      <th>3616</th>\n",
       "      <td>2005</td>\n",
       "      <td>3616</td>\n",
       "      <td>46.314655</td>\n",
       "      <td>12.169589</td>\n",
       "      <td>b'ITH33'</td>\n",
       "      <td>900.0</td>\n",
       "      <td>0.0</td>\n",
       "      <td>0.0</td>\n",
       "      <td>361.799988</td>\n",
       "      <td>386.246521</td>\n",
       "      <td>38.368233</td>\n",
       "      <td>47.0</td>\n",
       "      <td>0.0</td>\n",
       "      <td>0.0</td>\n",
       "      <td>0.0</td>\n",
       "      <td>2.731903</td>\n",
       "      <td>0.000000</td>\n",
       "      <td>702.0</td>\n",
       "      <td>0.0</td>\n",
       "    </tr>\n",
       "    <tr>\n",
       "      <th>...</th>\n",
       "      <td>...</td>\n",
       "      <td>...</td>\n",
       "      <td>...</td>\n",
       "      <td>...</td>\n",
       "      <td>...</td>\n",
       "      <td>...</td>\n",
       "      <td>...</td>\n",
       "      <td>...</td>\n",
       "      <td>...</td>\n",
       "      <td>...</td>\n",
       "      <td>...</td>\n",
       "      <td>...</td>\n",
       "      <td>...</td>\n",
       "      <td>...</td>\n",
       "      <td>...</td>\n",
       "      <td>...</td>\n",
       "      <td>...</td>\n",
       "      <td>...</td>\n",
       "      <td>...</td>\n",
       "    </tr>\n",
       "    <tr>\n",
       "      <th>168547</th>\n",
       "      <td>2030</td>\n",
       "      <td>3947</td>\n",
       "      <td>46.314655</td>\n",
       "      <td>12.169589</td>\n",
       "      <td>b'ITH33'</td>\n",
       "      <td>1600.0</td>\n",
       "      <td>114.0</td>\n",
       "      <td>248.0</td>\n",
       "      <td>150.119995</td>\n",
       "      <td>674.856445</td>\n",
       "      <td>309.583221</td>\n",
       "      <td>165.0</td>\n",
       "      <td>140.0</td>\n",
       "      <td>105.0</td>\n",
       "      <td>118.0</td>\n",
       "      <td>-1.965149</td>\n",
       "      <td>-2.830475</td>\n",
       "      <td>1066.0</td>\n",
       "      <td>134.0</td>\n",
       "    </tr>\n",
       "    <tr>\n",
       "      <th>168581</th>\n",
       "      <td>2030</td>\n",
       "      <td>3981</td>\n",
       "      <td>46.314655</td>\n",
       "      <td>12.169589</td>\n",
       "      <td>b'ITH33'</td>\n",
       "      <td>2300.0</td>\n",
       "      <td>91.0</td>\n",
       "      <td>283.0</td>\n",
       "      <td>150.119995</td>\n",
       "      <td>677.696899</td>\n",
       "      <td>500.802917</td>\n",
       "      <td>199.0</td>\n",
       "      <td>193.0</td>\n",
       "      <td>166.0</td>\n",
       "      <td>167.0</td>\n",
       "      <td>-6.232819</td>\n",
       "      <td>-7.136627</td>\n",
       "      <td>1367.0</td>\n",
       "      <td>192.0</td>\n",
       "    </tr>\n",
       "    <tr>\n",
       "      <th>168583</th>\n",
       "      <td>2030</td>\n",
       "      <td>3983</td>\n",
       "      <td>46.314655</td>\n",
       "      <td>12.169589</td>\n",
       "      <td>b'ITH33'</td>\n",
       "      <td>1500.0</td>\n",
       "      <td>105.0</td>\n",
       "      <td>271.0</td>\n",
       "      <td>150.119995</td>\n",
       "      <td>954.324646</td>\n",
       "      <td>534.988953</td>\n",
       "      <td>186.0</td>\n",
       "      <td>180.0</td>\n",
       "      <td>147.0</td>\n",
       "      <td>155.0</td>\n",
       "      <td>-1.803802</td>\n",
       "      <td>-2.901764</td>\n",
       "      <td>1086.0</td>\n",
       "      <td>166.0</td>\n",
       "    </tr>\n",
       "    <tr>\n",
       "      <th>168615</th>\n",
       "      <td>2030</td>\n",
       "      <td>4015</td>\n",
       "      <td>46.314655</td>\n",
       "      <td>12.169589</td>\n",
       "      <td>b'ITH33'</td>\n",
       "      <td>2200.0</td>\n",
       "      <td>109.0</td>\n",
       "      <td>280.0</td>\n",
       "      <td>150.119995</td>\n",
       "      <td>586.010437</td>\n",
       "      <td>428.652283</td>\n",
       "      <td>195.0</td>\n",
       "      <td>182.0</td>\n",
       "      <td>160.0</td>\n",
       "      <td>163.0</td>\n",
       "      <td>-5.739868</td>\n",
       "      <td>-7.088379</td>\n",
       "      <td>1379.0</td>\n",
       "      <td>171.0</td>\n",
       "    </tr>\n",
       "    <tr>\n",
       "      <th>168648</th>\n",
       "      <td>2030</td>\n",
       "      <td>4048</td>\n",
       "      <td>46.314655</td>\n",
       "      <td>12.169589</td>\n",
       "      <td>b'ITH33'</td>\n",
       "      <td>1800.0</td>\n",
       "      <td>128.0</td>\n",
       "      <td>237.0</td>\n",
       "      <td>190.080002</td>\n",
       "      <td>466.785126</td>\n",
       "      <td>215.753250</td>\n",
       "      <td>164.0</td>\n",
       "      <td>113.0</td>\n",
       "      <td>30.0</td>\n",
       "      <td>33.0</td>\n",
       "      <td>-3.314545</td>\n",
       "      <td>-4.576416</td>\n",
       "      <td>1251.0</td>\n",
       "      <td>109.0</td>\n",
       "    </tr>\n",
       "  </tbody>\n",
       "</table>\n",
       "<p>468 rows × 19 columns</p>\n",
       "</div>"
      ],
      "text/plain": [
       "        time  Number_of_points        LAT        LON  NUTS3_ID      ZS  \\\n",
       "3556    2005              3556  46.314655  12.169589  b'ITH33'   600.0   \n",
       "3557    2005              3557  46.314655  12.169589  b'ITH33'   700.0   \n",
       "3614    2005              3614  46.314655  12.169589  b'ITH33'  1200.0   \n",
       "3615    2005              3615  46.314655  12.169589  b'ITH33'  1000.0   \n",
       "3616    2005              3616  46.314655  12.169589  b'ITH33'   900.0   \n",
       "...      ...               ...        ...        ...       ...     ...   \n",
       "168547  2030              3947  46.314655  12.169589  b'ITH33'  1600.0   \n",
       "168581  2030              3981  46.314655  12.169589  b'ITH33'  2300.0   \n",
       "168583  2030              3983  46.314655  12.169589  b'ITH33'  1500.0   \n",
       "168615  2030              4015  46.314655  12.169589  b'ITH33'  2200.0   \n",
       "168648  2030              4048  46.314655  12.169589  b'ITH33'  1800.0   \n",
       "\n",
       "        beginning_of_season  end_of_season     mm_prod  \\\n",
       "3556                    0.0            0.0  379.079987   \n",
       "3557                    0.0            0.0  388.799988   \n",
       "3614                    0.0            0.0  352.079987   \n",
       "3615                    0.0            0.0  358.559998   \n",
       "3616                    0.0            0.0  361.799988   \n",
       "...                     ...            ...         ...   \n",
       "168547                114.0          248.0  150.119995   \n",
       "168581                 91.0          283.0  150.119995   \n",
       "168583                105.0          271.0  150.119995   \n",
       "168615                109.0          280.0  150.119995   \n",
       "168648                128.0          237.0  190.080002   \n",
       "\n",
       "        total_winter_precipitation_amount  snow_precipitation_amount_nov_apr  \\\n",
       "3556                           239.533264                          11.850979   \n",
       "3557                           306.103790                          13.974283   \n",
       "3614                           333.887329                          69.742935   \n",
       "3615                           296.237610                          32.037964   \n",
       "3616                           386.246521                          38.368233   \n",
       "...                                   ...                                ...   \n",
       "168547                         674.856445                         309.583221   \n",
       "168581                         677.696899                         500.802917   \n",
       "168583                         954.324646                         534.988953   \n",
       "168615                         586.010437                         428.652283   \n",
       "168648                         466.785126                         215.753250   \n",
       "\n",
       "        sd_days_low  sd_days_medium  sd_days_high  swe_days_natural_high  \\\n",
       "3556           29.0             0.0           0.0                    0.0   \n",
       "3557           19.0             0.0           0.0                    0.0   \n",
       "3614           61.0             0.0           0.0                    0.0   \n",
       "3615           42.0             0.0           0.0                    0.0   \n",
       "3616           47.0             0.0           0.0                    0.0   \n",
       "...             ...             ...           ...                    ...   \n",
       "168547        165.0           140.0         105.0                  118.0   \n",
       "168581        199.0           193.0         166.0                  167.0   \n",
       "168583        186.0           180.0         147.0                  155.0   \n",
       "168615        195.0           182.0         160.0                  163.0   \n",
       "168648        164.0           113.0          30.0                   33.0   \n",
       "\n",
       "        mean_winter_tas  mean_feb_tas  smh_wbt_lower2  season_duration  \n",
       "3556           3.718323      0.000000           687.0              0.0  \n",
       "3557           3.504303      0.000000           694.0              0.0  \n",
       "3614           1.150848      0.000000           977.0              0.0  \n",
       "3615           2.566956      0.000000           763.0              0.0  \n",
       "3616           2.731903      0.000000           702.0              0.0  \n",
       "...                 ...           ...             ...              ...  \n",
       "168547        -1.965149     -2.830475          1066.0            134.0  \n",
       "168581        -6.232819     -7.136627          1367.0            192.0  \n",
       "168583        -1.803802     -2.901764          1086.0            166.0  \n",
       "168615        -5.739868     -7.088379          1379.0            171.0  \n",
       "168648        -3.314545     -4.576416          1251.0            109.0  \n",
       "\n",
       "[468 rows x 19 columns]"
      ]
     },
     "execution_count": 31,
     "metadata": {},
     "output_type": "execute_result"
    }
   ],
   "source": [
    "cortina=df[df.NUTS3_ID==b'ITH33'] #Cortina d'Ampezzo -Belluno -Veneto\n",
    "cortina['mean_winter_tas']=cortina.mean_winter_tas-273.15\n",
    "cortina['mean_feb_tas']=cortina.mean_feb_tas-273.15\n",
    "cortina.fillna(0,inplace=True)\n",
    "cortina['season_duration']=cortina.end_of_season-cortina.beginning_of_season\n",
    "cortina"
   ]
  },
  {
   "cell_type": "code",
   "execution_count": 59,
   "metadata": {},
   "outputs": [
    {
     "data": {
      "text/html": [
       "<div>\n",
       "<style scoped>\n",
       "    .dataframe tbody tr th:only-of-type {\n",
       "        vertical-align: middle;\n",
       "    }\n",
       "\n",
       "    .dataframe tbody tr th {\n",
       "        vertical-align: top;\n",
       "    }\n",
       "\n",
       "    .dataframe thead th {\n",
       "        text-align: right;\n",
       "    }\n",
       "</style>\n",
       "<table border=\"1\" class=\"dataframe\">\n",
       "  <thead>\n",
       "    <tr style=\"text-align: right;\">\n",
       "      <th></th>\n",
       "      <th>beginning_of_season</th>\n",
       "      <th>end_of_season</th>\n",
       "      <th>mm_prod</th>\n",
       "      <th>total_winter_precipitation_amount</th>\n",
       "      <th>snow_precipitation_amount_nov_apr</th>\n",
       "      <th>sd_days_low</th>\n",
       "      <th>sd_days_medium</th>\n",
       "      <th>sd_days_high</th>\n",
       "      <th>swe_days_natural_high</th>\n",
       "      <th>mean_winter_tas</th>\n",
       "      <th>mean_feb_tas</th>\n",
       "      <th>smh_wbt_lower2</th>\n",
       "      <th>season_duration</th>\n",
       "    </tr>\n",
       "    <tr>\n",
       "      <th>time</th>\n",
       "      <th></th>\n",
       "      <th></th>\n",
       "      <th></th>\n",
       "      <th></th>\n",
       "      <th></th>\n",
       "      <th></th>\n",
       "      <th></th>\n",
       "      <th></th>\n",
       "      <th></th>\n",
       "      <th></th>\n",
       "      <th></th>\n",
       "      <th></th>\n",
       "      <th></th>\n",
       "    </tr>\n",
       "  </thead>\n",
       "  <tbody>\n",
       "    <tr>\n",
       "      <th>2005</th>\n",
       "      <td>126.0</td>\n",
       "      <td>161.0</td>\n",
       "      <td>343.0</td>\n",
       "      <td>341.0</td>\n",
       "      <td>135.0</td>\n",
       "      <td>101.0</td>\n",
       "      <td>36.0</td>\n",
       "      <td>17.0</td>\n",
       "      <td>16.0</td>\n",
       "      <td>-1.0</td>\n",
       "      <td>0.0</td>\n",
       "      <td>1088.0</td>\n",
       "      <td>35.0</td>\n",
       "    </tr>\n",
       "    <tr>\n",
       "      <th>2006</th>\n",
       "      <td>97.0</td>\n",
       "      <td>166.0</td>\n",
       "      <td>304.0</td>\n",
       "      <td>439.0</td>\n",
       "      <td>147.0</td>\n",
       "      <td>112.0</td>\n",
       "      <td>70.0</td>\n",
       "      <td>46.0</td>\n",
       "      <td>41.0</td>\n",
       "      <td>-2.0</td>\n",
       "      <td>-4.0</td>\n",
       "      <td>728.0</td>\n",
       "      <td>69.0</td>\n",
       "    </tr>\n",
       "    <tr>\n",
       "      <th>2007</th>\n",
       "      <td>109.0</td>\n",
       "      <td>138.0</td>\n",
       "      <td>341.0</td>\n",
       "      <td>335.0</td>\n",
       "      <td>104.0</td>\n",
       "      <td>78.0</td>\n",
       "      <td>30.0</td>\n",
       "      <td>5.0</td>\n",
       "      <td>5.0</td>\n",
       "      <td>-0.0</td>\n",
       "      <td>-6.0</td>\n",
       "      <td>761.0</td>\n",
       "      <td>28.0</td>\n",
       "    </tr>\n",
       "    <tr>\n",
       "      <th>2008</th>\n",
       "      <td>70.0</td>\n",
       "      <td>144.0</td>\n",
       "      <td>284.0</td>\n",
       "      <td>666.0</td>\n",
       "      <td>197.0</td>\n",
       "      <td>114.0</td>\n",
       "      <td>78.0</td>\n",
       "      <td>49.0</td>\n",
       "      <td>48.0</td>\n",
       "      <td>1.0</td>\n",
       "      <td>-4.0</td>\n",
       "      <td>779.0</td>\n",
       "      <td>73.0</td>\n",
       "    </tr>\n",
       "    <tr>\n",
       "      <th>2009</th>\n",
       "      <td>105.0</td>\n",
       "      <td>232.0</td>\n",
       "      <td>210.0</td>\n",
       "      <td>481.0</td>\n",
       "      <td>326.0</td>\n",
       "      <td>160.0</td>\n",
       "      <td>128.0</td>\n",
       "      <td>100.0</td>\n",
       "      <td>98.0</td>\n",
       "      <td>-4.0</td>\n",
       "      <td>-1.0</td>\n",
       "      <td>1277.0</td>\n",
       "      <td>127.0</td>\n",
       "    </tr>\n",
       "    <tr>\n",
       "      <th>2010</th>\n",
       "      <td>86.0</td>\n",
       "      <td>188.0</td>\n",
       "      <td>257.0</td>\n",
       "      <td>583.0</td>\n",
       "      <td>267.0</td>\n",
       "      <td>128.0</td>\n",
       "      <td>104.0</td>\n",
       "      <td>82.0</td>\n",
       "      <td>88.0</td>\n",
       "      <td>0.0</td>\n",
       "      <td>-6.0</td>\n",
       "      <td>898.0</td>\n",
       "      <td>103.0</td>\n",
       "    </tr>\n",
       "    <tr>\n",
       "      <th>2011</th>\n",
       "      <td>93.0</td>\n",
       "      <td>148.0</td>\n",
       "      <td>301.0</td>\n",
       "      <td>383.0</td>\n",
       "      <td>146.0</td>\n",
       "      <td>107.0</td>\n",
       "      <td>56.0</td>\n",
       "      <td>35.0</td>\n",
       "      <td>40.0</td>\n",
       "      <td>-1.0</td>\n",
       "      <td>-1.0</td>\n",
       "      <td>773.0</td>\n",
       "      <td>55.0</td>\n",
       "    </tr>\n",
       "    <tr>\n",
       "      <th>2012</th>\n",
       "      <td>95.0</td>\n",
       "      <td>169.0</td>\n",
       "      <td>360.0</td>\n",
       "      <td>558.0</td>\n",
       "      <td>217.0</td>\n",
       "      <td>108.0</td>\n",
       "      <td>76.0</td>\n",
       "      <td>62.0</td>\n",
       "      <td>64.0</td>\n",
       "      <td>-1.0</td>\n",
       "      <td>-5.0</td>\n",
       "      <td>788.0</td>\n",
       "      <td>74.0</td>\n",
       "    </tr>\n",
       "    <tr>\n",
       "      <th>2013</th>\n",
       "      <td>65.0</td>\n",
       "      <td>164.0</td>\n",
       "      <td>319.0</td>\n",
       "      <td>742.0</td>\n",
       "      <td>345.0</td>\n",
       "      <td>128.0</td>\n",
       "      <td>101.0</td>\n",
       "      <td>90.0</td>\n",
       "      <td>93.0</td>\n",
       "      <td>-2.0</td>\n",
       "      <td>-2.0</td>\n",
       "      <td>909.0</td>\n",
       "      <td>100.0</td>\n",
       "    </tr>\n",
       "    <tr>\n",
       "      <th>2014</th>\n",
       "      <td>132.0</td>\n",
       "      <td>246.0</td>\n",
       "      <td>238.0</td>\n",
       "      <td>699.0</td>\n",
       "      <td>359.0</td>\n",
       "      <td>139.0</td>\n",
       "      <td>115.0</td>\n",
       "      <td>98.0</td>\n",
       "      <td>105.0</td>\n",
       "      <td>-2.0</td>\n",
       "      <td>-3.0</td>\n",
       "      <td>796.0</td>\n",
       "      <td>114.0</td>\n",
       "    </tr>\n",
       "    <tr>\n",
       "      <th>2015</th>\n",
       "      <td>122.0</td>\n",
       "      <td>162.0</td>\n",
       "      <td>320.0</td>\n",
       "      <td>393.0</td>\n",
       "      <td>122.0</td>\n",
       "      <td>101.0</td>\n",
       "      <td>42.0</td>\n",
       "      <td>18.0</td>\n",
       "      <td>17.0</td>\n",
       "      <td>-0.0</td>\n",
       "      <td>-6.0</td>\n",
       "      <td>1208.0</td>\n",
       "      <td>40.0</td>\n",
       "    </tr>\n",
       "    <tr>\n",
       "      <th>2016</th>\n",
       "      <td>105.0</td>\n",
       "      <td>171.0</td>\n",
       "      <td>391.0</td>\n",
       "      <td>450.0</td>\n",
       "      <td>197.0</td>\n",
       "      <td>122.0</td>\n",
       "      <td>70.0</td>\n",
       "      <td>35.0</td>\n",
       "      <td>43.0</td>\n",
       "      <td>-1.0</td>\n",
       "      <td>-3.0</td>\n",
       "      <td>979.0</td>\n",
       "      <td>66.0</td>\n",
       "    </tr>\n",
       "    <tr>\n",
       "      <th>2017</th>\n",
       "      <td>96.0</td>\n",
       "      <td>164.0</td>\n",
       "      <td>288.0</td>\n",
       "      <td>561.0</td>\n",
       "      <td>232.0</td>\n",
       "      <td>113.0</td>\n",
       "      <td>70.0</td>\n",
       "      <td>53.0</td>\n",
       "      <td>55.0</td>\n",
       "      <td>-1.0</td>\n",
       "      <td>1.0</td>\n",
       "      <td>887.0</td>\n",
       "      <td>68.0</td>\n",
       "    </tr>\n",
       "    <tr>\n",
       "      <th>2018</th>\n",
       "      <td>97.0</td>\n",
       "      <td>193.0</td>\n",
       "      <td>285.0</td>\n",
       "      <td>707.0</td>\n",
       "      <td>327.0</td>\n",
       "      <td>126.0</td>\n",
       "      <td>99.0</td>\n",
       "      <td>71.0</td>\n",
       "      <td>75.0</td>\n",
       "      <td>-1.0</td>\n",
       "      <td>-2.0</td>\n",
       "      <td>784.0</td>\n",
       "      <td>97.0</td>\n",
       "    </tr>\n",
       "    <tr>\n",
       "      <th>2019</th>\n",
       "      <td>108.0</td>\n",
       "      <td>183.0</td>\n",
       "      <td>296.0</td>\n",
       "      <td>520.0</td>\n",
       "      <td>233.0</td>\n",
       "      <td>124.0</td>\n",
       "      <td>80.0</td>\n",
       "      <td>42.0</td>\n",
       "      <td>39.0</td>\n",
       "      <td>-2.0</td>\n",
       "      <td>-3.0</td>\n",
       "      <td>774.0</td>\n",
       "      <td>74.0</td>\n",
       "    </tr>\n",
       "    <tr>\n",
       "      <th>2020</th>\n",
       "      <td>126.0</td>\n",
       "      <td>227.0</td>\n",
       "      <td>279.0</td>\n",
       "      <td>801.0</td>\n",
       "      <td>358.0</td>\n",
       "      <td>142.0</td>\n",
       "      <td>104.0</td>\n",
       "      <td>84.0</td>\n",
       "      <td>88.0</td>\n",
       "      <td>-3.0</td>\n",
       "      <td>-8.0</td>\n",
       "      <td>771.0</td>\n",
       "      <td>101.0</td>\n",
       "    </tr>\n",
       "    <tr>\n",
       "      <th>2021</th>\n",
       "      <td>75.0</td>\n",
       "      <td>164.0</td>\n",
       "      <td>296.0</td>\n",
       "      <td>707.0</td>\n",
       "      <td>262.0</td>\n",
       "      <td>113.0</td>\n",
       "      <td>89.0</td>\n",
       "      <td>74.0</td>\n",
       "      <td>73.0</td>\n",
       "      <td>-0.0</td>\n",
       "      <td>-4.0</td>\n",
       "      <td>820.0</td>\n",
       "      <td>89.0</td>\n",
       "    </tr>\n",
       "    <tr>\n",
       "      <th>2022</th>\n",
       "      <td>95.0</td>\n",
       "      <td>162.0</td>\n",
       "      <td>359.0</td>\n",
       "      <td>544.0</td>\n",
       "      <td>186.0</td>\n",
       "      <td>91.0</td>\n",
       "      <td>68.0</td>\n",
       "      <td>36.0</td>\n",
       "      <td>40.0</td>\n",
       "      <td>-1.0</td>\n",
       "      <td>-2.0</td>\n",
       "      <td>872.0</td>\n",
       "      <td>67.0</td>\n",
       "    </tr>\n",
       "    <tr>\n",
       "      <th>2023</th>\n",
       "      <td>109.0</td>\n",
       "      <td>166.0</td>\n",
       "      <td>300.0</td>\n",
       "      <td>511.0</td>\n",
       "      <td>183.0</td>\n",
       "      <td>95.0</td>\n",
       "      <td>60.0</td>\n",
       "      <td>32.0</td>\n",
       "      <td>32.0</td>\n",
       "      <td>-0.0</td>\n",
       "      <td>-2.0</td>\n",
       "      <td>717.0</td>\n",
       "      <td>58.0</td>\n",
       "    </tr>\n",
       "    <tr>\n",
       "      <th>2024</th>\n",
       "      <td>91.0</td>\n",
       "      <td>167.0</td>\n",
       "      <td>352.0</td>\n",
       "      <td>431.0</td>\n",
       "      <td>207.0</td>\n",
       "      <td>118.0</td>\n",
       "      <td>83.0</td>\n",
       "      <td>56.0</td>\n",
       "      <td>60.0</td>\n",
       "      <td>0.0</td>\n",
       "      <td>-4.0</td>\n",
       "      <td>724.0</td>\n",
       "      <td>76.0</td>\n",
       "    </tr>\n",
       "    <tr>\n",
       "      <th>2025</th>\n",
       "      <td>121.0</td>\n",
       "      <td>189.0</td>\n",
       "      <td>305.0</td>\n",
       "      <td>387.0</td>\n",
       "      <td>206.0</td>\n",
       "      <td>116.0</td>\n",
       "      <td>72.0</td>\n",
       "      <td>48.0</td>\n",
       "      <td>45.0</td>\n",
       "      <td>-2.0</td>\n",
       "      <td>0.0</td>\n",
       "      <td>759.0</td>\n",
       "      <td>68.0</td>\n",
       "    </tr>\n",
       "    <tr>\n",
       "      <th>2026</th>\n",
       "      <td>115.0</td>\n",
       "      <td>218.0</td>\n",
       "      <td>228.0</td>\n",
       "      <td>669.0</td>\n",
       "      <td>359.0</td>\n",
       "      <td>132.0</td>\n",
       "      <td>104.0</td>\n",
       "      <td>90.0</td>\n",
       "      <td>91.0</td>\n",
       "      <td>-2.0</td>\n",
       "      <td>-5.0</td>\n",
       "      <td>875.0</td>\n",
       "      <td>103.0</td>\n",
       "    </tr>\n",
       "    <tr>\n",
       "      <th>2027</th>\n",
       "      <td>115.0</td>\n",
       "      <td>197.0</td>\n",
       "      <td>267.0</td>\n",
       "      <td>594.0</td>\n",
       "      <td>277.0</td>\n",
       "      <td>123.0</td>\n",
       "      <td>85.0</td>\n",
       "      <td>62.0</td>\n",
       "      <td>66.0</td>\n",
       "      <td>-1.0</td>\n",
       "      <td>-6.0</td>\n",
       "      <td>716.0</td>\n",
       "      <td>83.0</td>\n",
       "    </tr>\n",
       "    <tr>\n",
       "      <th>2028</th>\n",
       "      <td>81.0</td>\n",
       "      <td>173.0</td>\n",
       "      <td>235.0</td>\n",
       "      <td>618.0</td>\n",
       "      <td>290.0</td>\n",
       "      <td>130.0</td>\n",
       "      <td>96.0</td>\n",
       "      <td>77.0</td>\n",
       "      <td>78.0</td>\n",
       "      <td>-1.0</td>\n",
       "      <td>-4.0</td>\n",
       "      <td>904.0</td>\n",
       "      <td>92.0</td>\n",
       "    </tr>\n",
       "    <tr>\n",
       "      <th>2029</th>\n",
       "      <td>110.0</td>\n",
       "      <td>166.0</td>\n",
       "      <td>322.0</td>\n",
       "      <td>629.0</td>\n",
       "      <td>210.0</td>\n",
       "      <td>116.0</td>\n",
       "      <td>64.0</td>\n",
       "      <td>39.0</td>\n",
       "      <td>44.0</td>\n",
       "      <td>0.0</td>\n",
       "      <td>-3.0</td>\n",
       "      <td>913.0</td>\n",
       "      <td>57.0</td>\n",
       "    </tr>\n",
       "    <tr>\n",
       "      <th>2030</th>\n",
       "      <td>82.0</td>\n",
       "      <td>172.0</td>\n",
       "      <td>251.0</td>\n",
       "      <td>706.0</td>\n",
       "      <td>256.0</td>\n",
       "      <td>124.0</td>\n",
       "      <td>95.0</td>\n",
       "      <td>65.0</td>\n",
       "      <td>69.0</td>\n",
       "      <td>-1.0</td>\n",
       "      <td>-2.0</td>\n",
       "      <td>907.0</td>\n",
       "      <td>90.0</td>\n",
       "    </tr>\n",
       "  </tbody>\n",
       "</table>\n",
       "</div>"
      ],
      "text/plain": [
       "      beginning_of_season  end_of_season  mm_prod  \\\n",
       "time                                                \n",
       "2005                126.0          161.0    343.0   \n",
       "2006                 97.0          166.0    304.0   \n",
       "2007                109.0          138.0    341.0   \n",
       "2008                 70.0          144.0    284.0   \n",
       "2009                105.0          232.0    210.0   \n",
       "2010                 86.0          188.0    257.0   \n",
       "2011                 93.0          148.0    301.0   \n",
       "2012                 95.0          169.0    360.0   \n",
       "2013                 65.0          164.0    319.0   \n",
       "2014                132.0          246.0    238.0   \n",
       "2015                122.0          162.0    320.0   \n",
       "2016                105.0          171.0    391.0   \n",
       "2017                 96.0          164.0    288.0   \n",
       "2018                 97.0          193.0    285.0   \n",
       "2019                108.0          183.0    296.0   \n",
       "2020                126.0          227.0    279.0   \n",
       "2021                 75.0          164.0    296.0   \n",
       "2022                 95.0          162.0    359.0   \n",
       "2023                109.0          166.0    300.0   \n",
       "2024                 91.0          167.0    352.0   \n",
       "2025                121.0          189.0    305.0   \n",
       "2026                115.0          218.0    228.0   \n",
       "2027                115.0          197.0    267.0   \n",
       "2028                 81.0          173.0    235.0   \n",
       "2029                110.0          166.0    322.0   \n",
       "2030                 82.0          172.0    251.0   \n",
       "\n",
       "      total_winter_precipitation_amount  snow_precipitation_amount_nov_apr  \\\n",
       "time                                                                         \n",
       "2005                              341.0                              135.0   \n",
       "2006                              439.0                              147.0   \n",
       "2007                              335.0                              104.0   \n",
       "2008                              666.0                              197.0   \n",
       "2009                              481.0                              326.0   \n",
       "2010                              583.0                              267.0   \n",
       "2011                              383.0                              146.0   \n",
       "2012                              558.0                              217.0   \n",
       "2013                              742.0                              345.0   \n",
       "2014                              699.0                              359.0   \n",
       "2015                              393.0                              122.0   \n",
       "2016                              450.0                              197.0   \n",
       "2017                              561.0                              232.0   \n",
       "2018                              707.0                              327.0   \n",
       "2019                              520.0                              233.0   \n",
       "2020                              801.0                              358.0   \n",
       "2021                              707.0                              262.0   \n",
       "2022                              544.0                              186.0   \n",
       "2023                              511.0                              183.0   \n",
       "2024                              431.0                              207.0   \n",
       "2025                              387.0                              206.0   \n",
       "2026                              669.0                              359.0   \n",
       "2027                              594.0                              277.0   \n",
       "2028                              618.0                              290.0   \n",
       "2029                              629.0                              210.0   \n",
       "2030                              706.0                              256.0   \n",
       "\n",
       "      sd_days_low  sd_days_medium  sd_days_high  swe_days_natural_high  \\\n",
       "time                                                                     \n",
       "2005        101.0            36.0          17.0                   16.0   \n",
       "2006        112.0            70.0          46.0                   41.0   \n",
       "2007         78.0            30.0           5.0                    5.0   \n",
       "2008        114.0            78.0          49.0                   48.0   \n",
       "2009        160.0           128.0         100.0                   98.0   \n",
       "2010        128.0           104.0          82.0                   88.0   \n",
       "2011        107.0            56.0          35.0                   40.0   \n",
       "2012        108.0            76.0          62.0                   64.0   \n",
       "2013        128.0           101.0          90.0                   93.0   \n",
       "2014        139.0           115.0          98.0                  105.0   \n",
       "2015        101.0            42.0          18.0                   17.0   \n",
       "2016        122.0            70.0          35.0                   43.0   \n",
       "2017        113.0            70.0          53.0                   55.0   \n",
       "2018        126.0            99.0          71.0                   75.0   \n",
       "2019        124.0            80.0          42.0                   39.0   \n",
       "2020        142.0           104.0          84.0                   88.0   \n",
       "2021        113.0            89.0          74.0                   73.0   \n",
       "2022         91.0            68.0          36.0                   40.0   \n",
       "2023         95.0            60.0          32.0                   32.0   \n",
       "2024        118.0            83.0          56.0                   60.0   \n",
       "2025        116.0            72.0          48.0                   45.0   \n",
       "2026        132.0           104.0          90.0                   91.0   \n",
       "2027        123.0            85.0          62.0                   66.0   \n",
       "2028        130.0            96.0          77.0                   78.0   \n",
       "2029        116.0            64.0          39.0                   44.0   \n",
       "2030        124.0            95.0          65.0                   69.0   \n",
       "\n",
       "      mean_winter_tas  mean_feb_tas  smh_wbt_lower2  season_duration  \n",
       "time                                                                  \n",
       "2005             -1.0           0.0          1088.0             35.0  \n",
       "2006             -2.0          -4.0           728.0             69.0  \n",
       "2007             -0.0          -6.0           761.0             28.0  \n",
       "2008              1.0          -4.0           779.0             73.0  \n",
       "2009             -4.0          -1.0          1277.0            127.0  \n",
       "2010              0.0          -6.0           898.0            103.0  \n",
       "2011             -1.0          -1.0           773.0             55.0  \n",
       "2012             -1.0          -5.0           788.0             74.0  \n",
       "2013             -2.0          -2.0           909.0            100.0  \n",
       "2014             -2.0          -3.0           796.0            114.0  \n",
       "2015             -0.0          -6.0          1208.0             40.0  \n",
       "2016             -1.0          -3.0           979.0             66.0  \n",
       "2017             -1.0           1.0           887.0             68.0  \n",
       "2018             -1.0          -2.0           784.0             97.0  \n",
       "2019             -2.0          -3.0           774.0             74.0  \n",
       "2020             -3.0          -8.0           771.0            101.0  \n",
       "2021             -0.0          -4.0           820.0             89.0  \n",
       "2022             -1.0          -2.0           872.0             67.0  \n",
       "2023             -0.0          -2.0           717.0             58.0  \n",
       "2024              0.0          -4.0           724.0             76.0  \n",
       "2025             -2.0           0.0           759.0             68.0  \n",
       "2026             -2.0          -5.0           875.0            103.0  \n",
       "2027             -1.0          -6.0           716.0             83.0  \n",
       "2028             -1.0          -4.0           904.0             92.0  \n",
       "2029              0.0          -3.0           913.0             57.0  \n",
       "2030             -1.0          -2.0           907.0             90.0  "
      ]
     },
     "execution_count": 59,
     "metadata": {},
     "output_type": "execute_result"
    }
   ],
   "source": [
    "cortina_avg=cortina.drop(['Number_of_points','LAT','LON','NUTS3_ID','ZS'],axis=1).groupby(['time']).mean()\n",
    "cortina_avg.round()"
   ]
  },
  {
   "cell_type": "code",
   "execution_count": 60,
   "metadata": {},
   "outputs": [
    {
     "data": {
      "text/html": [
       "<div>\n",
       "<style scoped>\n",
       "    .dataframe tbody tr th:only-of-type {\n",
       "        vertical-align: middle;\n",
       "    }\n",
       "\n",
       "    .dataframe tbody tr th {\n",
       "        vertical-align: top;\n",
       "    }\n",
       "\n",
       "    .dataframe thead th {\n",
       "        text-align: right;\n",
       "    }\n",
       "</style>\n",
       "<table border=\"1\" class=\"dataframe\">\n",
       "  <thead>\n",
       "    <tr style=\"text-align: right;\">\n",
       "      <th></th>\n",
       "      <th>beginning_of_season</th>\n",
       "      <th>end_of_season</th>\n",
       "      <th>mm_prod</th>\n",
       "      <th>total_winter_precipitation_amount</th>\n",
       "      <th>snow_precipitation_amount_nov_apr</th>\n",
       "      <th>sd_days_low</th>\n",
       "      <th>sd_days_medium</th>\n",
       "      <th>sd_days_high</th>\n",
       "      <th>swe_days_natural_high</th>\n",
       "      <th>mean_winter_tas</th>\n",
       "      <th>mean_feb_tas</th>\n",
       "      <th>smh_wbt_lower2</th>\n",
       "      <th>season_duration</th>\n",
       "    </tr>\n",
       "    <tr>\n",
       "      <th>time</th>\n",
       "      <th></th>\n",
       "      <th></th>\n",
       "      <th></th>\n",
       "      <th></th>\n",
       "      <th></th>\n",
       "      <th></th>\n",
       "      <th></th>\n",
       "      <th></th>\n",
       "      <th></th>\n",
       "      <th></th>\n",
       "      <th></th>\n",
       "      <th></th>\n",
       "      <th></th>\n",
       "    </tr>\n",
       "  </thead>\n",
       "  <tbody>\n",
       "    <tr>\n",
       "      <th>2026</th>\n",
       "      <td>104.0</td>\n",
       "      <td>201.0</td>\n",
       "      <td>251.0</td>\n",
       "      <td>310.0</td>\n",
       "      <td>191.0</td>\n",
       "      <td>138.0</td>\n",
       "      <td>98.0</td>\n",
       "      <td>68.0</td>\n",
       "      <td>63.0</td>\n",
       "      <td>-3.0</td>\n",
       "      <td>-5.0</td>\n",
       "      <td>902.0</td>\n",
       "      <td>97.0</td>\n",
       "    </tr>\n",
       "  </tbody>\n",
       "</table>\n",
       "</div>"
      ],
      "text/plain": [
       "      beginning_of_season  end_of_season  mm_prod  \\\n",
       "time                                                \n",
       "2026                104.0          201.0    251.0   \n",
       "\n",
       "      total_winter_precipitation_amount  snow_precipitation_amount_nov_apr  \\\n",
       "time                                                                         \n",
       "2026                              310.0                              191.0   \n",
       "\n",
       "      sd_days_low  sd_days_medium  sd_days_high  swe_days_natural_high  \\\n",
       "time                                                                     \n",
       "2026        138.0            98.0          68.0                   63.0   \n",
       "\n",
       "      mean_winter_tas  mean_feb_tas  smh_wbt_lower2  season_duration  \n",
       "time                                                                  \n",
       "2026             -3.0          -5.0           902.0             97.0  "
      ]
     },
     "execution_count": 60,
     "metadata": {},
     "output_type": "execute_result"
    }
   ],
   "source": [
    "torino=df[df.NUTS3_ID==b'ITC11'] #torino d'Ampezzo -Belluno -Veneto\n",
    "torino['mean_winter_tas']=torino.mean_winter_tas-273.15\n",
    "torino['mean_feb_tas']=torino.mean_feb_tas-273.15\n",
    "torino.fillna(0,inplace=True)\n",
    "torino['season_duration']=torino.end_of_season-torino.beginning_of_season\n",
    "torino_avg=torino.drop(['Number_of_points','LAT','LON','NUTS3_ID','ZS'],axis=1).groupby(['time']).mean()\n",
    "torino_avg[torino_avg.index==2026].round()"
   ]
  },
  {
   "cell_type": "code",
   "execution_count": 33,
   "metadata": {},
   "outputs": [
    {
     "data": {
      "application/vnd.plotly.v1+json": {
       "config": {
        "plotlyServerURL": "https://plot.ly"
       },
       "data": [
        {
         "hovertemplate": "time=%{text}<br>mm_prod=%{y}<extra></extra>",
         "legendgroup": "",
         "line": {
          "color": "#636efa",
          "dash": "solid"
         },
         "marker": {
          "symbol": "circle"
         },
         "mode": "lines+text+markers",
         "name": "",
         "orientation": "v",
         "showlegend": false,
         "text": [
          2005,
          2006,
          2007,
          2008,
          2009,
          2010,
          2011,
          2012,
          2013,
          2014,
          2015,
          2016,
          2017,
          2018,
          2019,
          2020,
          2021,
          2022,
          2023,
          2024,
          2025,
          2026,
          2027,
          2028,
          2029,
          2030
         ],
         "type": "scatter",
         "x": [
          2005,
          2006,
          2007,
          2008,
          2009,
          2010,
          2011,
          2012,
          2013,
          2014,
          2015,
          2016,
          2017,
          2018,
          2019,
          2020,
          2021,
          2022,
          2023,
          2024,
          2025,
          2026,
          2027,
          2028,
          2029,
          2030
         ],
         "xaxis": "x",
         "y": [
          343.44000244140625,
          304.5,
          341.2799987792969,
          283.9800109863281,
          210.4199981689453,
          257.0400085449219,
          300.9599914550781,
          359.8800048828125,
          318.7200012207031,
          238.02000427246094,
          320.1600036621094,
          390.8999938964844,
          288.4200134277344,
          285.239990234375,
          296.1000061035156,
          278.5799865722656,
          295.79998779296875,
          358.8600158691406,
          300,
          351.9599914550781,
          304.9800109863281,
          228.36000061035156,
          266.5799865722656,
          234.59999084472656,
          322.20001220703125,
          250.55999755859375
         ],
         "yaxis": "y"
        }
       ],
       "layout": {
        "legend": {
         "tracegroupgap": 0
        },
        "template": {
         "data": {
          "bar": [
           {
            "error_x": {
             "color": "#2a3f5f"
            },
            "error_y": {
             "color": "#2a3f5f"
            },
            "marker": {
             "line": {
              "color": "#E5ECF6",
              "width": 0.5
             },
             "pattern": {
              "fillmode": "overlay",
              "size": 10,
              "solidity": 0.2
             }
            },
            "type": "bar"
           }
          ],
          "barpolar": [
           {
            "marker": {
             "line": {
              "color": "#E5ECF6",
              "width": 0.5
             },
             "pattern": {
              "fillmode": "overlay",
              "size": 10,
              "solidity": 0.2
             }
            },
            "type": "barpolar"
           }
          ],
          "carpet": [
           {
            "aaxis": {
             "endlinecolor": "#2a3f5f",
             "gridcolor": "white",
             "linecolor": "white",
             "minorgridcolor": "white",
             "startlinecolor": "#2a3f5f"
            },
            "baxis": {
             "endlinecolor": "#2a3f5f",
             "gridcolor": "white",
             "linecolor": "white",
             "minorgridcolor": "white",
             "startlinecolor": "#2a3f5f"
            },
            "type": "carpet"
           }
          ],
          "choropleth": [
           {
            "colorbar": {
             "outlinewidth": 0,
             "ticks": ""
            },
            "type": "choropleth"
           }
          ],
          "contour": [
           {
            "colorbar": {
             "outlinewidth": 0,
             "ticks": ""
            },
            "colorscale": [
             [
              0,
              "#0d0887"
             ],
             [
              0.1111111111111111,
              "#46039f"
             ],
             [
              0.2222222222222222,
              "#7201a8"
             ],
             [
              0.3333333333333333,
              "#9c179e"
             ],
             [
              0.4444444444444444,
              "#bd3786"
             ],
             [
              0.5555555555555556,
              "#d8576b"
             ],
             [
              0.6666666666666666,
              "#ed7953"
             ],
             [
              0.7777777777777778,
              "#fb9f3a"
             ],
             [
              0.8888888888888888,
              "#fdca26"
             ],
             [
              1,
              "#f0f921"
             ]
            ],
            "type": "contour"
           }
          ],
          "contourcarpet": [
           {
            "colorbar": {
             "outlinewidth": 0,
             "ticks": ""
            },
            "type": "contourcarpet"
           }
          ],
          "heatmap": [
           {
            "colorbar": {
             "outlinewidth": 0,
             "ticks": ""
            },
            "colorscale": [
             [
              0,
              "#0d0887"
             ],
             [
              0.1111111111111111,
              "#46039f"
             ],
             [
              0.2222222222222222,
              "#7201a8"
             ],
             [
              0.3333333333333333,
              "#9c179e"
             ],
             [
              0.4444444444444444,
              "#bd3786"
             ],
             [
              0.5555555555555556,
              "#d8576b"
             ],
             [
              0.6666666666666666,
              "#ed7953"
             ],
             [
              0.7777777777777778,
              "#fb9f3a"
             ],
             [
              0.8888888888888888,
              "#fdca26"
             ],
             [
              1,
              "#f0f921"
             ]
            ],
            "type": "heatmap"
           }
          ],
          "heatmapgl": [
           {
            "colorbar": {
             "outlinewidth": 0,
             "ticks": ""
            },
            "colorscale": [
             [
              0,
              "#0d0887"
             ],
             [
              0.1111111111111111,
              "#46039f"
             ],
             [
              0.2222222222222222,
              "#7201a8"
             ],
             [
              0.3333333333333333,
              "#9c179e"
             ],
             [
              0.4444444444444444,
              "#bd3786"
             ],
             [
              0.5555555555555556,
              "#d8576b"
             ],
             [
              0.6666666666666666,
              "#ed7953"
             ],
             [
              0.7777777777777778,
              "#fb9f3a"
             ],
             [
              0.8888888888888888,
              "#fdca26"
             ],
             [
              1,
              "#f0f921"
             ]
            ],
            "type": "heatmapgl"
           }
          ],
          "histogram": [
           {
            "marker": {
             "pattern": {
              "fillmode": "overlay",
              "size": 10,
              "solidity": 0.2
             }
            },
            "type": "histogram"
           }
          ],
          "histogram2d": [
           {
            "colorbar": {
             "outlinewidth": 0,
             "ticks": ""
            },
            "colorscale": [
             [
              0,
              "#0d0887"
             ],
             [
              0.1111111111111111,
              "#46039f"
             ],
             [
              0.2222222222222222,
              "#7201a8"
             ],
             [
              0.3333333333333333,
              "#9c179e"
             ],
             [
              0.4444444444444444,
              "#bd3786"
             ],
             [
              0.5555555555555556,
              "#d8576b"
             ],
             [
              0.6666666666666666,
              "#ed7953"
             ],
             [
              0.7777777777777778,
              "#fb9f3a"
             ],
             [
              0.8888888888888888,
              "#fdca26"
             ],
             [
              1,
              "#f0f921"
             ]
            ],
            "type": "histogram2d"
           }
          ],
          "histogram2dcontour": [
           {
            "colorbar": {
             "outlinewidth": 0,
             "ticks": ""
            },
            "colorscale": [
             [
              0,
              "#0d0887"
             ],
             [
              0.1111111111111111,
              "#46039f"
             ],
             [
              0.2222222222222222,
              "#7201a8"
             ],
             [
              0.3333333333333333,
              "#9c179e"
             ],
             [
              0.4444444444444444,
              "#bd3786"
             ],
             [
              0.5555555555555556,
              "#d8576b"
             ],
             [
              0.6666666666666666,
              "#ed7953"
             ],
             [
              0.7777777777777778,
              "#fb9f3a"
             ],
             [
              0.8888888888888888,
              "#fdca26"
             ],
             [
              1,
              "#f0f921"
             ]
            ],
            "type": "histogram2dcontour"
           }
          ],
          "mesh3d": [
           {
            "colorbar": {
             "outlinewidth": 0,
             "ticks": ""
            },
            "type": "mesh3d"
           }
          ],
          "parcoords": [
           {
            "line": {
             "colorbar": {
              "outlinewidth": 0,
              "ticks": ""
             }
            },
            "type": "parcoords"
           }
          ],
          "pie": [
           {
            "automargin": true,
            "type": "pie"
           }
          ],
          "scatter": [
           {
            "marker": {
             "colorbar": {
              "outlinewidth": 0,
              "ticks": ""
             }
            },
            "type": "scatter"
           }
          ],
          "scatter3d": [
           {
            "line": {
             "colorbar": {
              "outlinewidth": 0,
              "ticks": ""
             }
            },
            "marker": {
             "colorbar": {
              "outlinewidth": 0,
              "ticks": ""
             }
            },
            "type": "scatter3d"
           }
          ],
          "scattercarpet": [
           {
            "marker": {
             "colorbar": {
              "outlinewidth": 0,
              "ticks": ""
             }
            },
            "type": "scattercarpet"
           }
          ],
          "scattergeo": [
           {
            "marker": {
             "colorbar": {
              "outlinewidth": 0,
              "ticks": ""
             }
            },
            "type": "scattergeo"
           }
          ],
          "scattergl": [
           {
            "marker": {
             "colorbar": {
              "outlinewidth": 0,
              "ticks": ""
             }
            },
            "type": "scattergl"
           }
          ],
          "scattermapbox": [
           {
            "marker": {
             "colorbar": {
              "outlinewidth": 0,
              "ticks": ""
             }
            },
            "type": "scattermapbox"
           }
          ],
          "scatterpolar": [
           {
            "marker": {
             "colorbar": {
              "outlinewidth": 0,
              "ticks": ""
             }
            },
            "type": "scatterpolar"
           }
          ],
          "scatterpolargl": [
           {
            "marker": {
             "colorbar": {
              "outlinewidth": 0,
              "ticks": ""
             }
            },
            "type": "scatterpolargl"
           }
          ],
          "scatterternary": [
           {
            "marker": {
             "colorbar": {
              "outlinewidth": 0,
              "ticks": ""
             }
            },
            "type": "scatterternary"
           }
          ],
          "surface": [
           {
            "colorbar": {
             "outlinewidth": 0,
             "ticks": ""
            },
            "colorscale": [
             [
              0,
              "#0d0887"
             ],
             [
              0.1111111111111111,
              "#46039f"
             ],
             [
              0.2222222222222222,
              "#7201a8"
             ],
             [
              0.3333333333333333,
              "#9c179e"
             ],
             [
              0.4444444444444444,
              "#bd3786"
             ],
             [
              0.5555555555555556,
              "#d8576b"
             ],
             [
              0.6666666666666666,
              "#ed7953"
             ],
             [
              0.7777777777777778,
              "#fb9f3a"
             ],
             [
              0.8888888888888888,
              "#fdca26"
             ],
             [
              1,
              "#f0f921"
             ]
            ],
            "type": "surface"
           }
          ],
          "table": [
           {
            "cells": {
             "fill": {
              "color": "#EBF0F8"
             },
             "line": {
              "color": "white"
             }
            },
            "header": {
             "fill": {
              "color": "#C8D4E3"
             },
             "line": {
              "color": "white"
             }
            },
            "type": "table"
           }
          ]
         },
         "layout": {
          "annotationdefaults": {
           "arrowcolor": "#2a3f5f",
           "arrowhead": 0,
           "arrowwidth": 1
          },
          "autotypenumbers": "strict",
          "coloraxis": {
           "colorbar": {
            "outlinewidth": 0,
            "ticks": ""
           }
          },
          "colorscale": {
           "diverging": [
            [
             0,
             "#8e0152"
            ],
            [
             0.1,
             "#c51b7d"
            ],
            [
             0.2,
             "#de77ae"
            ],
            [
             0.3,
             "#f1b6da"
            ],
            [
             0.4,
             "#fde0ef"
            ],
            [
             0.5,
             "#f7f7f7"
            ],
            [
             0.6,
             "#e6f5d0"
            ],
            [
             0.7,
             "#b8e186"
            ],
            [
             0.8,
             "#7fbc41"
            ],
            [
             0.9,
             "#4d9221"
            ],
            [
             1,
             "#276419"
            ]
           ],
           "sequential": [
            [
             0,
             "#0d0887"
            ],
            [
             0.1111111111111111,
             "#46039f"
            ],
            [
             0.2222222222222222,
             "#7201a8"
            ],
            [
             0.3333333333333333,
             "#9c179e"
            ],
            [
             0.4444444444444444,
             "#bd3786"
            ],
            [
             0.5555555555555556,
             "#d8576b"
            ],
            [
             0.6666666666666666,
             "#ed7953"
            ],
            [
             0.7777777777777778,
             "#fb9f3a"
            ],
            [
             0.8888888888888888,
             "#fdca26"
            ],
            [
             1,
             "#f0f921"
            ]
           ],
           "sequentialminus": [
            [
             0,
             "#0d0887"
            ],
            [
             0.1111111111111111,
             "#46039f"
            ],
            [
             0.2222222222222222,
             "#7201a8"
            ],
            [
             0.3333333333333333,
             "#9c179e"
            ],
            [
             0.4444444444444444,
             "#bd3786"
            ],
            [
             0.5555555555555556,
             "#d8576b"
            ],
            [
             0.6666666666666666,
             "#ed7953"
            ],
            [
             0.7777777777777778,
             "#fb9f3a"
            ],
            [
             0.8888888888888888,
             "#fdca26"
            ],
            [
             1,
             "#f0f921"
            ]
           ]
          },
          "colorway": [
           "#636efa",
           "#EF553B",
           "#00cc96",
           "#ab63fa",
           "#FFA15A",
           "#19d3f3",
           "#FF6692",
           "#B6E880",
           "#FF97FF",
           "#FECB52"
          ],
          "font": {
           "color": "#2a3f5f"
          },
          "geo": {
           "bgcolor": "white",
           "lakecolor": "white",
           "landcolor": "#E5ECF6",
           "showlakes": true,
           "showland": true,
           "subunitcolor": "white"
          },
          "hoverlabel": {
           "align": "left"
          },
          "hovermode": "closest",
          "mapbox": {
           "style": "light"
          },
          "paper_bgcolor": "white",
          "plot_bgcolor": "#E5ECF6",
          "polar": {
           "angularaxis": {
            "gridcolor": "white",
            "linecolor": "white",
            "ticks": ""
           },
           "bgcolor": "#E5ECF6",
           "radialaxis": {
            "gridcolor": "white",
            "linecolor": "white",
            "ticks": ""
           }
          },
          "scene": {
           "xaxis": {
            "backgroundcolor": "#E5ECF6",
            "gridcolor": "white",
            "gridwidth": 2,
            "linecolor": "white",
            "showbackground": true,
            "ticks": "",
            "zerolinecolor": "white"
           },
           "yaxis": {
            "backgroundcolor": "#E5ECF6",
            "gridcolor": "white",
            "gridwidth": 2,
            "linecolor": "white",
            "showbackground": true,
            "ticks": "",
            "zerolinecolor": "white"
           },
           "zaxis": {
            "backgroundcolor": "#E5ECF6",
            "gridcolor": "white",
            "gridwidth": 2,
            "linecolor": "white",
            "showbackground": true,
            "ticks": "",
            "zerolinecolor": "white"
           }
          },
          "shapedefaults": {
           "line": {
            "color": "#2a3f5f"
           }
          },
          "ternary": {
           "aaxis": {
            "gridcolor": "white",
            "linecolor": "white",
            "ticks": ""
           },
           "baxis": {
            "gridcolor": "white",
            "linecolor": "white",
            "ticks": ""
           },
           "bgcolor": "#E5ECF6",
           "caxis": {
            "gridcolor": "white",
            "linecolor": "white",
            "ticks": ""
           }
          },
          "title": {
           "x": 0.05
          },
          "xaxis": {
           "automargin": true,
           "gridcolor": "white",
           "linecolor": "white",
           "ticks": "",
           "title": {
            "standoff": 15
           },
           "zerolinecolor": "white",
           "zerolinewidth": 2
          },
          "yaxis": {
           "automargin": true,
           "gridcolor": "white",
           "linecolor": "white",
           "ticks": "",
           "title": {
            "standoff": 15
           },
           "zerolinecolor": "white",
           "zerolinewidth": 2
          }
         }
        },
        "title": {
         "text": "Machine Made Snow"
        },
        "xaxis": {
         "anchor": "y",
         "domain": [
          0,
          1
         ],
         "rangeslider": {
          "visible": false
         },
         "title": {
          "text": "time"
         }
        },
        "yaxis": {
         "anchor": "x",
         "domain": [
          0,
          1
         ],
         "title": {
          "text": "mm_prod"
         }
        }
       }
      }
     },
     "metadata": {},
     "output_type": "display_data"
    }
   ],
   "source": [
    "fig=px.line(cortina.drop(['Number_of_points','LAT','LON','NUTS3_ID','ZS'],axis=1).groupby(['time'],as_index=False).mean(), x='time', y='mm_prod', title='Machine Made Snow',text=\"time\",markers=True)\n",
    "fig.update_xaxes(rangeslider_visible=False)\n",
    "fig.show()"
   ]
  },
  {
   "cell_type": "code",
   "execution_count": 58,
   "metadata": {},
   "outputs": [
    {
     "data": {
      "application/vnd.plotly.v1+json": {
       "config": {
        "plotlyServerURL": "https://plot.ly"
       },
       "data": [
        {
         "hovertemplate": "variable=total_winter_precipitation_amount<br>time=%{text}<br>value=%{y}<extra></extra>",
         "legendgroup": "total_winter_precipitation_amount",
         "line": {
          "color": "#636efa",
          "dash": "solid"
         },
         "marker": {
          "symbol": "circle"
         },
         "mode": "lines+text+markers",
         "name": "total_winter_precipitation_amount",
         "orientation": "v",
         "showlegend": true,
         "text": [
          2005,
          2006,
          2007,
          2008,
          2009,
          2010,
          2011,
          2012,
          2013,
          2014,
          2015,
          2016,
          2017,
          2018,
          2019,
          2020,
          2021,
          2022,
          2023,
          2024,
          2025,
          2026,
          2027,
          2028,
          2029,
          2030
         ],
         "type": "scatter",
         "x": [
          2005,
          2006,
          2007,
          2008,
          2009,
          2010,
          2011,
          2012,
          2013,
          2014,
          2015,
          2016,
          2017,
          2018,
          2019,
          2020,
          2021,
          2022,
          2023,
          2024,
          2025,
          2026,
          2027,
          2028,
          2029,
          2030
         ],
         "xaxis": "x",
         "y": [
          340.62017822265625,
          439.05426025390625,
          334.5975646972656,
          666.03759765625,
          480.7624816894531,
          583.3575439453125,
          382.50775146484375,
          558.3440551757812,
          741.61328125,
          699.0841064453125,
          393.3938903808594,
          449.8439025878906,
          560.81298828125,
          707.3307495117188,
          520.383544921875,
          801.08642578125,
          706.7385864257812,
          543.8801879882812,
          511.10894775390625,
          430.5890197753906,
          386.92596435546875,
          668.9133911132812,
          593.9566650390625,
          618.3611450195312,
          629.0221557617188,
          705.7369995117188
         ],
         "yaxis": "y"
        },
        {
         "hovertemplate": "variable=snow_precipitation_amount_nov_apr<br>time=%{text}<br>value=%{y}<extra></extra>",
         "legendgroup": "snow_precipitation_amount_nov_apr",
         "line": {
          "color": "#EF553B",
          "dash": "solid"
         },
         "marker": {
          "symbol": "circle"
         },
         "mode": "lines+text+markers",
         "name": "snow_precipitation_amount_nov_apr",
         "orientation": "v",
         "showlegend": true,
         "text": [
          2005,
          2006,
          2007,
          2008,
          2009,
          2010,
          2011,
          2012,
          2013,
          2014,
          2015,
          2016,
          2017,
          2018,
          2019,
          2020,
          2021,
          2022,
          2023,
          2024,
          2025,
          2026,
          2027,
          2028,
          2029,
          2030
         ],
         "type": "scatter",
         "x": [
          2005,
          2006,
          2007,
          2008,
          2009,
          2010,
          2011,
          2012,
          2013,
          2014,
          2015,
          2016,
          2017,
          2018,
          2019,
          2020,
          2021,
          2022,
          2023,
          2024,
          2025,
          2026,
          2027,
          2028,
          2029,
          2030
         ],
         "xaxis": "x",
         "y": [
          135.17825317382812,
          146.54615783691406,
          104.49054718017578,
          197.21990966796875,
          326.38531494140625,
          266.8788757324219,
          146.21775817871094,
          217.12115478515625,
          344.58233642578125,
          359.0773620605469,
          121.68152618408203,
          196.5234375,
          232.05380249023438,
          327.11456298828125,
          233.34689331054688,
          357.8793640136719,
          261.7348327636719,
          185.8405303955078,
          183.0681610107422,
          207.05972290039062,
          206.28367614746094,
          358.9903869628906,
          276.58685302734375,
          290.020263671875,
          209.69808959960938,
          256.2349548339844
         ],
         "yaxis": "y"
        }
       ],
       "layout": {
        "legend": {
         "title": {
          "text": "variable"
         },
         "tracegroupgap": 0
        },
        "template": {
         "data": {
          "bar": [
           {
            "error_x": {
             "color": "#2a3f5f"
            },
            "error_y": {
             "color": "#2a3f5f"
            },
            "marker": {
             "line": {
              "color": "#E5ECF6",
              "width": 0.5
             },
             "pattern": {
              "fillmode": "overlay",
              "size": 10,
              "solidity": 0.2
             }
            },
            "type": "bar"
           }
          ],
          "barpolar": [
           {
            "marker": {
             "line": {
              "color": "#E5ECF6",
              "width": 0.5
             },
             "pattern": {
              "fillmode": "overlay",
              "size": 10,
              "solidity": 0.2
             }
            },
            "type": "barpolar"
           }
          ],
          "carpet": [
           {
            "aaxis": {
             "endlinecolor": "#2a3f5f",
             "gridcolor": "white",
             "linecolor": "white",
             "minorgridcolor": "white",
             "startlinecolor": "#2a3f5f"
            },
            "baxis": {
             "endlinecolor": "#2a3f5f",
             "gridcolor": "white",
             "linecolor": "white",
             "minorgridcolor": "white",
             "startlinecolor": "#2a3f5f"
            },
            "type": "carpet"
           }
          ],
          "choropleth": [
           {
            "colorbar": {
             "outlinewidth": 0,
             "ticks": ""
            },
            "type": "choropleth"
           }
          ],
          "contour": [
           {
            "colorbar": {
             "outlinewidth": 0,
             "ticks": ""
            },
            "colorscale": [
             [
              0,
              "#0d0887"
             ],
             [
              0.1111111111111111,
              "#46039f"
             ],
             [
              0.2222222222222222,
              "#7201a8"
             ],
             [
              0.3333333333333333,
              "#9c179e"
             ],
             [
              0.4444444444444444,
              "#bd3786"
             ],
             [
              0.5555555555555556,
              "#d8576b"
             ],
             [
              0.6666666666666666,
              "#ed7953"
             ],
             [
              0.7777777777777778,
              "#fb9f3a"
             ],
             [
              0.8888888888888888,
              "#fdca26"
             ],
             [
              1,
              "#f0f921"
             ]
            ],
            "type": "contour"
           }
          ],
          "contourcarpet": [
           {
            "colorbar": {
             "outlinewidth": 0,
             "ticks": ""
            },
            "type": "contourcarpet"
           }
          ],
          "heatmap": [
           {
            "colorbar": {
             "outlinewidth": 0,
             "ticks": ""
            },
            "colorscale": [
             [
              0,
              "#0d0887"
             ],
             [
              0.1111111111111111,
              "#46039f"
             ],
             [
              0.2222222222222222,
              "#7201a8"
             ],
             [
              0.3333333333333333,
              "#9c179e"
             ],
             [
              0.4444444444444444,
              "#bd3786"
             ],
             [
              0.5555555555555556,
              "#d8576b"
             ],
             [
              0.6666666666666666,
              "#ed7953"
             ],
             [
              0.7777777777777778,
              "#fb9f3a"
             ],
             [
              0.8888888888888888,
              "#fdca26"
             ],
             [
              1,
              "#f0f921"
             ]
            ],
            "type": "heatmap"
           }
          ],
          "heatmapgl": [
           {
            "colorbar": {
             "outlinewidth": 0,
             "ticks": ""
            },
            "colorscale": [
             [
              0,
              "#0d0887"
             ],
             [
              0.1111111111111111,
              "#46039f"
             ],
             [
              0.2222222222222222,
              "#7201a8"
             ],
             [
              0.3333333333333333,
              "#9c179e"
             ],
             [
              0.4444444444444444,
              "#bd3786"
             ],
             [
              0.5555555555555556,
              "#d8576b"
             ],
             [
              0.6666666666666666,
              "#ed7953"
             ],
             [
              0.7777777777777778,
              "#fb9f3a"
             ],
             [
              0.8888888888888888,
              "#fdca26"
             ],
             [
              1,
              "#f0f921"
             ]
            ],
            "type": "heatmapgl"
           }
          ],
          "histogram": [
           {
            "marker": {
             "pattern": {
              "fillmode": "overlay",
              "size": 10,
              "solidity": 0.2
             }
            },
            "type": "histogram"
           }
          ],
          "histogram2d": [
           {
            "colorbar": {
             "outlinewidth": 0,
             "ticks": ""
            },
            "colorscale": [
             [
              0,
              "#0d0887"
             ],
             [
              0.1111111111111111,
              "#46039f"
             ],
             [
              0.2222222222222222,
              "#7201a8"
             ],
             [
              0.3333333333333333,
              "#9c179e"
             ],
             [
              0.4444444444444444,
              "#bd3786"
             ],
             [
              0.5555555555555556,
              "#d8576b"
             ],
             [
              0.6666666666666666,
              "#ed7953"
             ],
             [
              0.7777777777777778,
              "#fb9f3a"
             ],
             [
              0.8888888888888888,
              "#fdca26"
             ],
             [
              1,
              "#f0f921"
             ]
            ],
            "type": "histogram2d"
           }
          ],
          "histogram2dcontour": [
           {
            "colorbar": {
             "outlinewidth": 0,
             "ticks": ""
            },
            "colorscale": [
             [
              0,
              "#0d0887"
             ],
             [
              0.1111111111111111,
              "#46039f"
             ],
             [
              0.2222222222222222,
              "#7201a8"
             ],
             [
              0.3333333333333333,
              "#9c179e"
             ],
             [
              0.4444444444444444,
              "#bd3786"
             ],
             [
              0.5555555555555556,
              "#d8576b"
             ],
             [
              0.6666666666666666,
              "#ed7953"
             ],
             [
              0.7777777777777778,
              "#fb9f3a"
             ],
             [
              0.8888888888888888,
              "#fdca26"
             ],
             [
              1,
              "#f0f921"
             ]
            ],
            "type": "histogram2dcontour"
           }
          ],
          "mesh3d": [
           {
            "colorbar": {
             "outlinewidth": 0,
             "ticks": ""
            },
            "type": "mesh3d"
           }
          ],
          "parcoords": [
           {
            "line": {
             "colorbar": {
              "outlinewidth": 0,
              "ticks": ""
             }
            },
            "type": "parcoords"
           }
          ],
          "pie": [
           {
            "automargin": true,
            "type": "pie"
           }
          ],
          "scatter": [
           {
            "marker": {
             "colorbar": {
              "outlinewidth": 0,
              "ticks": ""
             }
            },
            "type": "scatter"
           }
          ],
          "scatter3d": [
           {
            "line": {
             "colorbar": {
              "outlinewidth": 0,
              "ticks": ""
             }
            },
            "marker": {
             "colorbar": {
              "outlinewidth": 0,
              "ticks": ""
             }
            },
            "type": "scatter3d"
           }
          ],
          "scattercarpet": [
           {
            "marker": {
             "colorbar": {
              "outlinewidth": 0,
              "ticks": ""
             }
            },
            "type": "scattercarpet"
           }
          ],
          "scattergeo": [
           {
            "marker": {
             "colorbar": {
              "outlinewidth": 0,
              "ticks": ""
             }
            },
            "type": "scattergeo"
           }
          ],
          "scattergl": [
           {
            "marker": {
             "colorbar": {
              "outlinewidth": 0,
              "ticks": ""
             }
            },
            "type": "scattergl"
           }
          ],
          "scattermapbox": [
           {
            "marker": {
             "colorbar": {
              "outlinewidth": 0,
              "ticks": ""
             }
            },
            "type": "scattermapbox"
           }
          ],
          "scatterpolar": [
           {
            "marker": {
             "colorbar": {
              "outlinewidth": 0,
              "ticks": ""
             }
            },
            "type": "scatterpolar"
           }
          ],
          "scatterpolargl": [
           {
            "marker": {
             "colorbar": {
              "outlinewidth": 0,
              "ticks": ""
             }
            },
            "type": "scatterpolargl"
           }
          ],
          "scatterternary": [
           {
            "marker": {
             "colorbar": {
              "outlinewidth": 0,
              "ticks": ""
             }
            },
            "type": "scatterternary"
           }
          ],
          "surface": [
           {
            "colorbar": {
             "outlinewidth": 0,
             "ticks": ""
            },
            "colorscale": [
             [
              0,
              "#0d0887"
             ],
             [
              0.1111111111111111,
              "#46039f"
             ],
             [
              0.2222222222222222,
              "#7201a8"
             ],
             [
              0.3333333333333333,
              "#9c179e"
             ],
             [
              0.4444444444444444,
              "#bd3786"
             ],
             [
              0.5555555555555556,
              "#d8576b"
             ],
             [
              0.6666666666666666,
              "#ed7953"
             ],
             [
              0.7777777777777778,
              "#fb9f3a"
             ],
             [
              0.8888888888888888,
              "#fdca26"
             ],
             [
              1,
              "#f0f921"
             ]
            ],
            "type": "surface"
           }
          ],
          "table": [
           {
            "cells": {
             "fill": {
              "color": "#EBF0F8"
             },
             "line": {
              "color": "white"
             }
            },
            "header": {
             "fill": {
              "color": "#C8D4E3"
             },
             "line": {
              "color": "white"
             }
            },
            "type": "table"
           }
          ]
         },
         "layout": {
          "annotationdefaults": {
           "arrowcolor": "#2a3f5f",
           "arrowhead": 0,
           "arrowwidth": 1
          },
          "autotypenumbers": "strict",
          "coloraxis": {
           "colorbar": {
            "outlinewidth": 0,
            "ticks": ""
           }
          },
          "colorscale": {
           "diverging": [
            [
             0,
             "#8e0152"
            ],
            [
             0.1,
             "#c51b7d"
            ],
            [
             0.2,
             "#de77ae"
            ],
            [
             0.3,
             "#f1b6da"
            ],
            [
             0.4,
             "#fde0ef"
            ],
            [
             0.5,
             "#f7f7f7"
            ],
            [
             0.6,
             "#e6f5d0"
            ],
            [
             0.7,
             "#b8e186"
            ],
            [
             0.8,
             "#7fbc41"
            ],
            [
             0.9,
             "#4d9221"
            ],
            [
             1,
             "#276419"
            ]
           ],
           "sequential": [
            [
             0,
             "#0d0887"
            ],
            [
             0.1111111111111111,
             "#46039f"
            ],
            [
             0.2222222222222222,
             "#7201a8"
            ],
            [
             0.3333333333333333,
             "#9c179e"
            ],
            [
             0.4444444444444444,
             "#bd3786"
            ],
            [
             0.5555555555555556,
             "#d8576b"
            ],
            [
             0.6666666666666666,
             "#ed7953"
            ],
            [
             0.7777777777777778,
             "#fb9f3a"
            ],
            [
             0.8888888888888888,
             "#fdca26"
            ],
            [
             1,
             "#f0f921"
            ]
           ],
           "sequentialminus": [
            [
             0,
             "#0d0887"
            ],
            [
             0.1111111111111111,
             "#46039f"
            ],
            [
             0.2222222222222222,
             "#7201a8"
            ],
            [
             0.3333333333333333,
             "#9c179e"
            ],
            [
             0.4444444444444444,
             "#bd3786"
            ],
            [
             0.5555555555555556,
             "#d8576b"
            ],
            [
             0.6666666666666666,
             "#ed7953"
            ],
            [
             0.7777777777777778,
             "#fb9f3a"
            ],
            [
             0.8888888888888888,
             "#fdca26"
            ],
            [
             1,
             "#f0f921"
            ]
           ]
          },
          "colorway": [
           "#636efa",
           "#EF553B",
           "#00cc96",
           "#ab63fa",
           "#FFA15A",
           "#19d3f3",
           "#FF6692",
           "#B6E880",
           "#FF97FF",
           "#FECB52"
          ],
          "font": {
           "color": "#2a3f5f"
          },
          "geo": {
           "bgcolor": "white",
           "lakecolor": "white",
           "landcolor": "#E5ECF6",
           "showlakes": true,
           "showland": true,
           "subunitcolor": "white"
          },
          "hoverlabel": {
           "align": "left"
          },
          "hovermode": "closest",
          "mapbox": {
           "style": "light"
          },
          "paper_bgcolor": "white",
          "plot_bgcolor": "#E5ECF6",
          "polar": {
           "angularaxis": {
            "gridcolor": "white",
            "linecolor": "white",
            "ticks": ""
           },
           "bgcolor": "#E5ECF6",
           "radialaxis": {
            "gridcolor": "white",
            "linecolor": "white",
            "ticks": ""
           }
          },
          "scene": {
           "xaxis": {
            "backgroundcolor": "#E5ECF6",
            "gridcolor": "white",
            "gridwidth": 2,
            "linecolor": "white",
            "showbackground": true,
            "ticks": "",
            "zerolinecolor": "white"
           },
           "yaxis": {
            "backgroundcolor": "#E5ECF6",
            "gridcolor": "white",
            "gridwidth": 2,
            "linecolor": "white",
            "showbackground": true,
            "ticks": "",
            "zerolinecolor": "white"
           },
           "zaxis": {
            "backgroundcolor": "#E5ECF6",
            "gridcolor": "white",
            "gridwidth": 2,
            "linecolor": "white",
            "showbackground": true,
            "ticks": "",
            "zerolinecolor": "white"
           }
          },
          "shapedefaults": {
           "line": {
            "color": "#2a3f5f"
           }
          },
          "ternary": {
           "aaxis": {
            "gridcolor": "white",
            "linecolor": "white",
            "ticks": ""
           },
           "baxis": {
            "gridcolor": "white",
            "linecolor": "white",
            "ticks": ""
           },
           "bgcolor": "#E5ECF6",
           "caxis": {
            "gridcolor": "white",
            "linecolor": "white",
            "ticks": ""
           }
          },
          "title": {
           "x": 0.05
          },
          "xaxis": {
           "automargin": true,
           "gridcolor": "white",
           "linecolor": "white",
           "ticks": "",
           "title": {
            "standoff": 15
           },
           "zerolinecolor": "white",
           "zerolinewidth": 2
          },
          "yaxis": {
           "automargin": true,
           "gridcolor": "white",
           "linecolor": "white",
           "ticks": "",
           "title": {
            "standoff": 15
           },
           "zerolinecolor": "white",
           "zerolinewidth": 2
          }
         }
        },
        "title": {
         "text": "Precipitation"
        },
        "xaxis": {
         "anchor": "y",
         "domain": [
          0,
          1
         ],
         "title": {
          "text": "time"
         }
        },
        "yaxis": {
         "anchor": "x",
         "domain": [
          0,
          1
         ],
         "title": {
          "text": "value"
         }
        }
       }
      }
     },
     "metadata": {},
     "output_type": "display_data"
    }
   ],
   "source": [
    "pd.options.plotting.backend = \"plotly\"\n",
    "# milano.plot(x='time', y=['mm_prod','snow_precipitation_amount_nov_apr','total_winter_precipitation_amount','mean_winter_tas','mean_feb_tas'])\n",
    "result_melt = cortina.drop(['Number_of_points','LAT','LON','NUTS3_ID','ZS'],axis=1).groupby(['time'],as_index=False).mean().melt(id_vars='time', value_vars= ['total_winter_precipitation_amount','snow_precipitation_amount_nov_apr'])\n",
    "fig=px.line(result_melt, x='time' , y='value' , color='variable',text=\"time\",markers=True,title='Precipitation')\n",
    "fig.show();"
   ]
  },
  {
   "cell_type": "code",
   "execution_count": 30,
   "metadata": {},
   "outputs": [
    {
     "data": {
      "text/html": [
       "<div>\n",
       "<style scoped>\n",
       "    .dataframe tbody tr th:only-of-type {\n",
       "        vertical-align: middle;\n",
       "    }\n",
       "\n",
       "    .dataframe tbody tr th {\n",
       "        vertical-align: top;\n",
       "    }\n",
       "\n",
       "    .dataframe thead th {\n",
       "        text-align: right;\n",
       "    }\n",
       "</style>\n",
       "<table border=\"1\" class=\"dataframe\">\n",
       "  <thead>\n",
       "    <tr style=\"text-align: right;\">\n",
       "      <th></th>\n",
       "      <th>time</th>\n",
       "      <th>Number_of_points</th>\n",
       "      <th>LAT</th>\n",
       "      <th>LON</th>\n",
       "      <th>NUTS3_ID</th>\n",
       "      <th>ZS</th>\n",
       "      <th>beginning_of_season</th>\n",
       "      <th>end_of_season</th>\n",
       "      <th>mm_prod</th>\n",
       "      <th>total_winter_precipitation_amount</th>\n",
       "      <th>snow_precipitation_amount_nov_apr</th>\n",
       "      <th>sd_days_low</th>\n",
       "      <th>sd_days_medium</th>\n",
       "      <th>sd_days_high</th>\n",
       "      <th>swe_days_natural_high</th>\n",
       "      <th>mean_winter_tas</th>\n",
       "      <th>mean_feb_tas</th>\n",
       "      <th>smh_wbt_lower2</th>\n",
       "      <th>season_duration</th>\n",
       "    </tr>\n",
       "  </thead>\n",
       "  <tbody>\n",
       "    <tr>\n",
       "      <th>3165</th>\n",
       "      <td>2005</td>\n",
       "      <td>3165</td>\n",
       "      <td>45.462296</td>\n",
       "      <td>9.123205</td>\n",
       "      <td>b'ITC4C'</td>\n",
       "      <td>100.0</td>\n",
       "      <td>0.0</td>\n",
       "      <td>0.0</td>\n",
       "      <td>373.679993</td>\n",
       "      <td>300.888306</td>\n",
       "      <td>29.669912</td>\n",
       "      <td>16.0</td>\n",
       "      <td>0.0</td>\n",
       "      <td>0.0</td>\n",
       "      <td>0.0</td>\n",
       "      <td>4.487640</td>\n",
       "      <td>NaN</td>\n",
       "      <td>804.0</td>\n",
       "      <td>0.0</td>\n",
       "    </tr>\n",
       "    <tr>\n",
       "      <th>9749</th>\n",
       "      <td>2006</td>\n",
       "      <td>3165</td>\n",
       "      <td>45.462296</td>\n",
       "      <td>9.123205</td>\n",
       "      <td>b'ITC4C'</td>\n",
       "      <td>100.0</td>\n",
       "      <td>181.0</td>\n",
       "      <td>184.0</td>\n",
       "      <td>449.279999</td>\n",
       "      <td>302.997986</td>\n",
       "      <td>67.057892</td>\n",
       "      <td>46.0</td>\n",
       "      <td>6.0</td>\n",
       "      <td>0.0</td>\n",
       "      <td>0.0</td>\n",
       "      <td>4.985199</td>\n",
       "      <td>3.820404</td>\n",
       "      <td>246.0</td>\n",
       "      <td>3.0</td>\n",
       "    </tr>\n",
       "    <tr>\n",
       "      <th>16333</th>\n",
       "      <td>2007</td>\n",
       "      <td>3165</td>\n",
       "      <td>45.462296</td>\n",
       "      <td>9.123205</td>\n",
       "      <td>b'ITC4C'</td>\n",
       "      <td>100.0</td>\n",
       "      <td>0.0</td>\n",
       "      <td>0.0</td>\n",
       "      <td>63.720001</td>\n",
       "      <td>235.852295</td>\n",
       "      <td>9.106730</td>\n",
       "      <td>0.0</td>\n",
       "      <td>0.0</td>\n",
       "      <td>0.0</td>\n",
       "      <td>0.0</td>\n",
       "      <td>5.908173</td>\n",
       "      <td>1.633514</td>\n",
       "      <td>294.0</td>\n",
       "      <td>0.0</td>\n",
       "    </tr>\n",
       "    <tr>\n",
       "      <th>22917</th>\n",
       "      <td>2008</td>\n",
       "      <td>3165</td>\n",
       "      <td>45.462296</td>\n",
       "      <td>9.123205</td>\n",
       "      <td>b'ITC4C'</td>\n",
       "      <td>100.0</td>\n",
       "      <td>115.0</td>\n",
       "      <td>115.0</td>\n",
       "      <td>232.199997</td>\n",
       "      <td>523.649475</td>\n",
       "      <td>81.012856</td>\n",
       "      <td>20.0</td>\n",
       "      <td>1.0</td>\n",
       "      <td>0.0</td>\n",
       "      <td>0.0</td>\n",
       "      <td>6.348419</td>\n",
       "      <td>3.243774</td>\n",
       "      <td>212.0</td>\n",
       "      <td>0.0</td>\n",
       "    </tr>\n",
       "    <tr>\n",
       "      <th>29501</th>\n",
       "      <td>2009</td>\n",
       "      <td>3165</td>\n",
       "      <td>45.462296</td>\n",
       "      <td>9.123205</td>\n",
       "      <td>b'ITC4C'</td>\n",
       "      <td>100.0</td>\n",
       "      <td>0.0</td>\n",
       "      <td>0.0</td>\n",
       "      <td>643.679993</td>\n",
       "      <td>361.093140</td>\n",
       "      <td>108.974152</td>\n",
       "      <td>62.0</td>\n",
       "      <td>0.0</td>\n",
       "      <td>0.0</td>\n",
       "      <td>0.0</td>\n",
       "      <td>2.732513</td>\n",
       "      <td>4.915833</td>\n",
       "      <td>718.0</td>\n",
       "      <td>0.0</td>\n",
       "    </tr>\n",
       "    <tr>\n",
       "      <th>36085</th>\n",
       "      <td>2010</td>\n",
       "      <td>3165</td>\n",
       "      <td>45.462296</td>\n",
       "      <td>9.123205</td>\n",
       "      <td>b'ITC4C'</td>\n",
       "      <td>100.0</td>\n",
       "      <td>0.0</td>\n",
       "      <td>0.0</td>\n",
       "      <td>443.880005</td>\n",
       "      <td>292.583069</td>\n",
       "      <td>39.234234</td>\n",
       "      <td>11.0</td>\n",
       "      <td>0.0</td>\n",
       "      <td>0.0</td>\n",
       "      <td>0.0</td>\n",
       "      <td>5.749969</td>\n",
       "      <td>1.513397</td>\n",
       "      <td>494.0</td>\n",
       "      <td>0.0</td>\n",
       "    </tr>\n",
       "    <tr>\n",
       "      <th>42669</th>\n",
       "      <td>2011</td>\n",
       "      <td>3165</td>\n",
       "      <td>45.462296</td>\n",
       "      <td>9.123205</td>\n",
       "      <td>b'ITC4C'</td>\n",
       "      <td>100.0</td>\n",
       "      <td>0.0</td>\n",
       "      <td>0.0</td>\n",
       "      <td>387.720001</td>\n",
       "      <td>214.033401</td>\n",
       "      <td>2.101729</td>\n",
       "      <td>0.0</td>\n",
       "      <td>0.0</td>\n",
       "      <td>0.0</td>\n",
       "      <td>0.0</td>\n",
       "      <td>5.552704</td>\n",
       "      <td>5.000244</td>\n",
       "      <td>257.0</td>\n",
       "      <td>0.0</td>\n",
       "    </tr>\n",
       "    <tr>\n",
       "      <th>49253</th>\n",
       "      <td>2012</td>\n",
       "      <td>3165</td>\n",
       "      <td>45.462296</td>\n",
       "      <td>9.123205</td>\n",
       "      <td>b'ITC4C'</td>\n",
       "      <td>100.0</td>\n",
       "      <td>0.0</td>\n",
       "      <td>0.0</td>\n",
       "      <td>336.959991</td>\n",
       "      <td>368.932587</td>\n",
       "      <td>18.853003</td>\n",
       "      <td>1.0</td>\n",
       "      <td>0.0</td>\n",
       "      <td>0.0</td>\n",
       "      <td>0.0</td>\n",
       "      <td>5.791412</td>\n",
       "      <td>2.750244</td>\n",
       "      <td>273.0</td>\n",
       "      <td>0.0</td>\n",
       "    </tr>\n",
       "    <tr>\n",
       "      <th>55837</th>\n",
       "      <td>2013</td>\n",
       "      <td>3165</td>\n",
       "      <td>45.462296</td>\n",
       "      <td>9.123205</td>\n",
       "      <td>b'ITC4C'</td>\n",
       "      <td>100.0</td>\n",
       "      <td>0.0</td>\n",
       "      <td>0.0</td>\n",
       "      <td>470.880005</td>\n",
       "      <td>582.752441</td>\n",
       "      <td>5.091305</td>\n",
       "      <td>0.0</td>\n",
       "      <td>0.0</td>\n",
       "      <td>0.0</td>\n",
       "      <td>0.0</td>\n",
       "      <td>5.042023</td>\n",
       "      <td>4.694885</td>\n",
       "      <td>309.0</td>\n",
       "      <td>0.0</td>\n",
       "    </tr>\n",
       "    <tr>\n",
       "      <th>62421</th>\n",
       "      <td>2014</td>\n",
       "      <td>3165</td>\n",
       "      <td>45.462296</td>\n",
       "      <td>9.123205</td>\n",
       "      <td>b'ITC4C'</td>\n",
       "      <td>100.0</td>\n",
       "      <td>0.0</td>\n",
       "      <td>0.0</td>\n",
       "      <td>347.760010</td>\n",
       "      <td>473.174835</td>\n",
       "      <td>68.181320</td>\n",
       "      <td>35.0</td>\n",
       "      <td>0.0</td>\n",
       "      <td>0.0</td>\n",
       "      <td>0.0</td>\n",
       "      <td>4.953827</td>\n",
       "      <td>3.852478</td>\n",
       "      <td>141.0</td>\n",
       "      <td>0.0</td>\n",
       "    </tr>\n",
       "    <tr>\n",
       "      <th>69005</th>\n",
       "      <td>2015</td>\n",
       "      <td>3165</td>\n",
       "      <td>45.462296</td>\n",
       "      <td>9.123205</td>\n",
       "      <td>b'ITC4C'</td>\n",
       "      <td>100.0</td>\n",
       "      <td>0.0</td>\n",
       "      <td>0.0</td>\n",
       "      <td>384.480011</td>\n",
       "      <td>246.482162</td>\n",
       "      <td>21.361851</td>\n",
       "      <td>5.0</td>\n",
       "      <td>0.0</td>\n",
       "      <td>0.0</td>\n",
       "      <td>0.0</td>\n",
       "      <td>5.690826</td>\n",
       "      <td>0.728668</td>\n",
       "      <td>788.0</td>\n",
       "      <td>0.0</td>\n",
       "    </tr>\n",
       "    <tr>\n",
       "      <th>75589</th>\n",
       "      <td>2016</td>\n",
       "      <td>3165</td>\n",
       "      <td>45.462296</td>\n",
       "      <td>9.123205</td>\n",
       "      <td>b'ITC4C'</td>\n",
       "      <td>100.0</td>\n",
       "      <td>0.0</td>\n",
       "      <td>0.0</td>\n",
       "      <td>380.160004</td>\n",
       "      <td>224.212158</td>\n",
       "      <td>33.583138</td>\n",
       "      <td>10.0</td>\n",
       "      <td>0.0</td>\n",
       "      <td>0.0</td>\n",
       "      <td>0.0</td>\n",
       "      <td>5.886108</td>\n",
       "      <td>4.449432</td>\n",
       "      <td>508.0</td>\n",
       "      <td>0.0</td>\n",
       "    </tr>\n",
       "    <tr>\n",
       "      <th>82173</th>\n",
       "      <td>2017</td>\n",
       "      <td>3165</td>\n",
       "      <td>45.462296</td>\n",
       "      <td>9.123205</td>\n",
       "      <td>b'ITC4C'</td>\n",
       "      <td>100.0</td>\n",
       "      <td>0.0</td>\n",
       "      <td>0.0</td>\n",
       "      <td>280.799988</td>\n",
       "      <td>333.320251</td>\n",
       "      <td>10.471200</td>\n",
       "      <td>0.0</td>\n",
       "      <td>0.0</td>\n",
       "      <td>0.0</td>\n",
       "      <td>0.0</td>\n",
       "      <td>5.647888</td>\n",
       "      <td>7.788391</td>\n",
       "      <td>372.0</td>\n",
       "      <td>0.0</td>\n",
       "    </tr>\n",
       "    <tr>\n",
       "      <th>88757</th>\n",
       "      <td>2018</td>\n",
       "      <td>3165</td>\n",
       "      <td>45.462296</td>\n",
       "      <td>9.123205</td>\n",
       "      <td>b'ITC4C'</td>\n",
       "      <td>100.0</td>\n",
       "      <td>0.0</td>\n",
       "      <td>0.0</td>\n",
       "      <td>385.559998</td>\n",
       "      <td>342.299377</td>\n",
       "      <td>17.221634</td>\n",
       "      <td>0.0</td>\n",
       "      <td>0.0</td>\n",
       "      <td>0.0</td>\n",
       "      <td>0.0</td>\n",
       "      <td>5.205566</td>\n",
       "      <td>5.205017</td>\n",
       "      <td>250.0</td>\n",
       "      <td>0.0</td>\n",
       "    </tr>\n",
       "    <tr>\n",
       "      <th>95341</th>\n",
       "      <td>2019</td>\n",
       "      <td>3165</td>\n",
       "      <td>45.462296</td>\n",
       "      <td>9.123205</td>\n",
       "      <td>b'ITC4C'</td>\n",
       "      <td>100.0</td>\n",
       "      <td>0.0</td>\n",
       "      <td>0.0</td>\n",
       "      <td>395.279999</td>\n",
       "      <td>338.232880</td>\n",
       "      <td>40.390129</td>\n",
       "      <td>20.0</td>\n",
       "      <td>0.0</td>\n",
       "      <td>0.0</td>\n",
       "      <td>0.0</td>\n",
       "      <td>4.731110</td>\n",
       "      <td>4.729431</td>\n",
       "      <td>233.0</td>\n",
       "      <td>0.0</td>\n",
       "    </tr>\n",
       "    <tr>\n",
       "      <th>101925</th>\n",
       "      <td>2020</td>\n",
       "      <td>3165</td>\n",
       "      <td>45.462296</td>\n",
       "      <td>9.123205</td>\n",
       "      <td>b'ITC4C'</td>\n",
       "      <td>100.0</td>\n",
       "      <td>187.0</td>\n",
       "      <td>189.0</td>\n",
       "      <td>363.959991</td>\n",
       "      <td>576.634460</td>\n",
       "      <td>105.159073</td>\n",
       "      <td>48.0</td>\n",
       "      <td>3.0</td>\n",
       "      <td>0.0</td>\n",
       "      <td>0.0</td>\n",
       "      <td>3.607147</td>\n",
       "      <td>0.167450</td>\n",
       "      <td>130.0</td>\n",
       "      <td>2.0</td>\n",
       "    </tr>\n",
       "    <tr>\n",
       "      <th>108509</th>\n",
       "      <td>2021</td>\n",
       "      <td>3165</td>\n",
       "      <td>45.462296</td>\n",
       "      <td>9.123205</td>\n",
       "      <td>b'ITC4C'</td>\n",
       "      <td>100.0</td>\n",
       "      <td>161.0</td>\n",
       "      <td>161.0</td>\n",
       "      <td>27.000000</td>\n",
       "      <td>495.065216</td>\n",
       "      <td>52.212990</td>\n",
       "      <td>8.0</td>\n",
       "      <td>1.0</td>\n",
       "      <td>0.0</td>\n",
       "      <td>0.0</td>\n",
       "      <td>6.392365</td>\n",
       "      <td>0.086426</td>\n",
       "      <td>174.0</td>\n",
       "      <td>0.0</td>\n",
       "    </tr>\n",
       "    <tr>\n",
       "      <th>115093</th>\n",
       "      <td>2022</td>\n",
       "      <td>3165</td>\n",
       "      <td>45.462296</td>\n",
       "      <td>9.123205</td>\n",
       "      <td>b'ITC4C'</td>\n",
       "      <td>100.0</td>\n",
       "      <td>0.0</td>\n",
       "      <td>0.0</td>\n",
       "      <td>471.959991</td>\n",
       "      <td>302.406403</td>\n",
       "      <td>18.156023</td>\n",
       "      <td>0.0</td>\n",
       "      <td>0.0</td>\n",
       "      <td>0.0</td>\n",
       "      <td>0.0</td>\n",
       "      <td>4.905182</td>\n",
       "      <td>5.562317</td>\n",
       "      <td>296.0</td>\n",
       "      <td>0.0</td>\n",
       "    </tr>\n",
       "    <tr>\n",
       "      <th>121677</th>\n",
       "      <td>2023</td>\n",
       "      <td>3165</td>\n",
       "      <td>45.462296</td>\n",
       "      <td>9.123205</td>\n",
       "      <td>b'ITC4C'</td>\n",
       "      <td>100.0</td>\n",
       "      <td>0.0</td>\n",
       "      <td>0.0</td>\n",
       "      <td>411.480011</td>\n",
       "      <td>361.665314</td>\n",
       "      <td>8.668255</td>\n",
       "      <td>0.0</td>\n",
       "      <td>0.0</td>\n",
       "      <td>0.0</td>\n",
       "      <td>0.0</td>\n",
       "      <td>5.680206</td>\n",
       "      <td>4.993835</td>\n",
       "      <td>400.0</td>\n",
       "      <td>0.0</td>\n",
       "    </tr>\n",
       "    <tr>\n",
       "      <th>128261</th>\n",
       "      <td>2024</td>\n",
       "      <td>3165</td>\n",
       "      <td>45.462296</td>\n",
       "      <td>9.123205</td>\n",
       "      <td>b'ITC4C'</td>\n",
       "      <td>100.0</td>\n",
       "      <td>0.0</td>\n",
       "      <td>0.0</td>\n",
       "      <td>162.000000</td>\n",
       "      <td>213.593430</td>\n",
       "      <td>18.609516</td>\n",
       "      <td>0.0</td>\n",
       "      <td>0.0</td>\n",
       "      <td>0.0</td>\n",
       "      <td>0.0</td>\n",
       "      <td>6.362427</td>\n",
       "      <td>3.258148</td>\n",
       "      <td>53.0</td>\n",
       "      <td>0.0</td>\n",
       "    </tr>\n",
       "    <tr>\n",
       "      <th>134845</th>\n",
       "      <td>2025</td>\n",
       "      <td>3165</td>\n",
       "      <td>45.462296</td>\n",
       "      <td>9.123205</td>\n",
       "      <td>b'ITC4C'</td>\n",
       "      <td>100.0</td>\n",
       "      <td>0.0</td>\n",
       "      <td>0.0</td>\n",
       "      <td>351.000000</td>\n",
       "      <td>243.591400</td>\n",
       "      <td>41.043697</td>\n",
       "      <td>40.0</td>\n",
       "      <td>0.0</td>\n",
       "      <td>0.0</td>\n",
       "      <td>0.0</td>\n",
       "      <td>4.576508</td>\n",
       "      <td>6.561462</td>\n",
       "      <td>378.0</td>\n",
       "      <td>0.0</td>\n",
       "    </tr>\n",
       "    <tr>\n",
       "      <th>141429</th>\n",
       "      <td>2026</td>\n",
       "      <td>3165</td>\n",
       "      <td>45.462296</td>\n",
       "      <td>9.123205</td>\n",
       "      <td>b'ITC4C'</td>\n",
       "      <td>100.0</td>\n",
       "      <td>0.0</td>\n",
       "      <td>0.0</td>\n",
       "      <td>359.640015</td>\n",
       "      <td>462.550873</td>\n",
       "      <td>52.897507</td>\n",
       "      <td>28.0</td>\n",
       "      <td>0.0</td>\n",
       "      <td>0.0</td>\n",
       "      <td>0.0</td>\n",
       "      <td>3.606171</td>\n",
       "      <td>1.147003</td>\n",
       "      <td>275.0</td>\n",
       "      <td>0.0</td>\n",
       "    </tr>\n",
       "    <tr>\n",
       "      <th>148013</th>\n",
       "      <td>2027</td>\n",
       "      <td>3165</td>\n",
       "      <td>45.462296</td>\n",
       "      <td>9.123205</td>\n",
       "      <td>b'ITC4C'</td>\n",
       "      <td>100.0</td>\n",
       "      <td>0.0</td>\n",
       "      <td>0.0</td>\n",
       "      <td>360.720001</td>\n",
       "      <td>413.502563</td>\n",
       "      <td>32.552902</td>\n",
       "      <td>43.0</td>\n",
       "      <td>0.0</td>\n",
       "      <td>0.0</td>\n",
       "      <td>0.0</td>\n",
       "      <td>4.994568</td>\n",
       "      <td>-1.023041</td>\n",
       "      <td>325.0</td>\n",
       "      <td>0.0</td>\n",
       "    </tr>\n",
       "    <tr>\n",
       "      <th>154597</th>\n",
       "      <td>2028</td>\n",
       "      <td>3165</td>\n",
       "      <td>45.462296</td>\n",
       "      <td>9.123205</td>\n",
       "      <td>b'ITC4C'</td>\n",
       "      <td>100.0</td>\n",
       "      <td>0.0</td>\n",
       "      <td>0.0</td>\n",
       "      <td>165.240005</td>\n",
       "      <td>398.537323</td>\n",
       "      <td>56.608906</td>\n",
       "      <td>5.0</td>\n",
       "      <td>0.0</td>\n",
       "      <td>0.0</td>\n",
       "      <td>0.0</td>\n",
       "      <td>5.946655</td>\n",
       "      <td>3.106689</td>\n",
       "      <td>223.0</td>\n",
       "      <td>0.0</td>\n",
       "    </tr>\n",
       "    <tr>\n",
       "      <th>161181</th>\n",
       "      <td>2029</td>\n",
       "      <td>3165</td>\n",
       "      <td>45.462296</td>\n",
       "      <td>9.123205</td>\n",
       "      <td>b'ITC4C'</td>\n",
       "      <td>100.0</td>\n",
       "      <td>0.0</td>\n",
       "      <td>0.0</td>\n",
       "      <td>285.119995</td>\n",
       "      <td>539.140930</td>\n",
       "      <td>60.797352</td>\n",
       "      <td>21.0</td>\n",
       "      <td>0.0</td>\n",
       "      <td>0.0</td>\n",
       "      <td>0.0</td>\n",
       "      <td>6.655304</td>\n",
       "      <td>4.626312</td>\n",
       "      <td>384.0</td>\n",
       "      <td>0.0</td>\n",
       "    </tr>\n",
       "    <tr>\n",
       "      <th>167765</th>\n",
       "      <td>2030</td>\n",
       "      <td>3165</td>\n",
       "      <td>45.462296</td>\n",
       "      <td>9.123205</td>\n",
       "      <td>b'ITC4C'</td>\n",
       "      <td>100.0</td>\n",
       "      <td>0.0</td>\n",
       "      <td>0.0</td>\n",
       "      <td>83.160004</td>\n",
       "      <td>484.147369</td>\n",
       "      <td>25.641361</td>\n",
       "      <td>20.0</td>\n",
       "      <td>0.0</td>\n",
       "      <td>0.0</td>\n",
       "      <td>0.0</td>\n",
       "      <td>5.827667</td>\n",
       "      <td>4.903503</td>\n",
       "      <td>94.0</td>\n",
       "      <td>0.0</td>\n",
       "    </tr>\n",
       "  </tbody>\n",
       "</table>\n",
       "</div>"
      ],
      "text/plain": [
       "        time  Number_of_points        LAT       LON  NUTS3_ID     ZS  \\\n",
       "3165    2005              3165  45.462296  9.123205  b'ITC4C'  100.0   \n",
       "9749    2006              3165  45.462296  9.123205  b'ITC4C'  100.0   \n",
       "16333   2007              3165  45.462296  9.123205  b'ITC4C'  100.0   \n",
       "22917   2008              3165  45.462296  9.123205  b'ITC4C'  100.0   \n",
       "29501   2009              3165  45.462296  9.123205  b'ITC4C'  100.0   \n",
       "36085   2010              3165  45.462296  9.123205  b'ITC4C'  100.0   \n",
       "42669   2011              3165  45.462296  9.123205  b'ITC4C'  100.0   \n",
       "49253   2012              3165  45.462296  9.123205  b'ITC4C'  100.0   \n",
       "55837   2013              3165  45.462296  9.123205  b'ITC4C'  100.0   \n",
       "62421   2014              3165  45.462296  9.123205  b'ITC4C'  100.0   \n",
       "69005   2015              3165  45.462296  9.123205  b'ITC4C'  100.0   \n",
       "75589   2016              3165  45.462296  9.123205  b'ITC4C'  100.0   \n",
       "82173   2017              3165  45.462296  9.123205  b'ITC4C'  100.0   \n",
       "88757   2018              3165  45.462296  9.123205  b'ITC4C'  100.0   \n",
       "95341   2019              3165  45.462296  9.123205  b'ITC4C'  100.0   \n",
       "101925  2020              3165  45.462296  9.123205  b'ITC4C'  100.0   \n",
       "108509  2021              3165  45.462296  9.123205  b'ITC4C'  100.0   \n",
       "115093  2022              3165  45.462296  9.123205  b'ITC4C'  100.0   \n",
       "121677  2023              3165  45.462296  9.123205  b'ITC4C'  100.0   \n",
       "128261  2024              3165  45.462296  9.123205  b'ITC4C'  100.0   \n",
       "134845  2025              3165  45.462296  9.123205  b'ITC4C'  100.0   \n",
       "141429  2026              3165  45.462296  9.123205  b'ITC4C'  100.0   \n",
       "148013  2027              3165  45.462296  9.123205  b'ITC4C'  100.0   \n",
       "154597  2028              3165  45.462296  9.123205  b'ITC4C'  100.0   \n",
       "161181  2029              3165  45.462296  9.123205  b'ITC4C'  100.0   \n",
       "167765  2030              3165  45.462296  9.123205  b'ITC4C'  100.0   \n",
       "\n",
       "        beginning_of_season  end_of_season     mm_prod  \\\n",
       "3165                    0.0            0.0  373.679993   \n",
       "9749                  181.0          184.0  449.279999   \n",
       "16333                   0.0            0.0   63.720001   \n",
       "22917                 115.0          115.0  232.199997   \n",
       "29501                   0.0            0.0  643.679993   \n",
       "36085                   0.0            0.0  443.880005   \n",
       "42669                   0.0            0.0  387.720001   \n",
       "49253                   0.0            0.0  336.959991   \n",
       "55837                   0.0            0.0  470.880005   \n",
       "62421                   0.0            0.0  347.760010   \n",
       "69005                   0.0            0.0  384.480011   \n",
       "75589                   0.0            0.0  380.160004   \n",
       "82173                   0.0            0.0  280.799988   \n",
       "88757                   0.0            0.0  385.559998   \n",
       "95341                   0.0            0.0  395.279999   \n",
       "101925                187.0          189.0  363.959991   \n",
       "108509                161.0          161.0   27.000000   \n",
       "115093                  0.0            0.0  471.959991   \n",
       "121677                  0.0            0.0  411.480011   \n",
       "128261                  0.0            0.0  162.000000   \n",
       "134845                  0.0            0.0  351.000000   \n",
       "141429                  0.0            0.0  359.640015   \n",
       "148013                  0.0            0.0  360.720001   \n",
       "154597                  0.0            0.0  165.240005   \n",
       "161181                  0.0            0.0  285.119995   \n",
       "167765                  0.0            0.0   83.160004   \n",
       "\n",
       "        total_winter_precipitation_amount  snow_precipitation_amount_nov_apr  \\\n",
       "3165                           300.888306                          29.669912   \n",
       "9749                           302.997986                          67.057892   \n",
       "16333                          235.852295                           9.106730   \n",
       "22917                          523.649475                          81.012856   \n",
       "29501                          361.093140                         108.974152   \n",
       "36085                          292.583069                          39.234234   \n",
       "42669                          214.033401                           2.101729   \n",
       "49253                          368.932587                          18.853003   \n",
       "55837                          582.752441                           5.091305   \n",
       "62421                          473.174835                          68.181320   \n",
       "69005                          246.482162                          21.361851   \n",
       "75589                          224.212158                          33.583138   \n",
       "82173                          333.320251                          10.471200   \n",
       "88757                          342.299377                          17.221634   \n",
       "95341                          338.232880                          40.390129   \n",
       "101925                         576.634460                         105.159073   \n",
       "108509                         495.065216                          52.212990   \n",
       "115093                         302.406403                          18.156023   \n",
       "121677                         361.665314                           8.668255   \n",
       "128261                         213.593430                          18.609516   \n",
       "134845                         243.591400                          41.043697   \n",
       "141429                         462.550873                          52.897507   \n",
       "148013                         413.502563                          32.552902   \n",
       "154597                         398.537323                          56.608906   \n",
       "161181                         539.140930                          60.797352   \n",
       "167765                         484.147369                          25.641361   \n",
       "\n",
       "        sd_days_low  sd_days_medium  sd_days_high  swe_days_natural_high  \\\n",
       "3165           16.0             0.0           0.0                    0.0   \n",
       "9749           46.0             6.0           0.0                    0.0   \n",
       "16333           0.0             0.0           0.0                    0.0   \n",
       "22917          20.0             1.0           0.0                    0.0   \n",
       "29501          62.0             0.0           0.0                    0.0   \n",
       "36085          11.0             0.0           0.0                    0.0   \n",
       "42669           0.0             0.0           0.0                    0.0   \n",
       "49253           1.0             0.0           0.0                    0.0   \n",
       "55837           0.0             0.0           0.0                    0.0   \n",
       "62421          35.0             0.0           0.0                    0.0   \n",
       "69005           5.0             0.0           0.0                    0.0   \n",
       "75589          10.0             0.0           0.0                    0.0   \n",
       "82173           0.0             0.0           0.0                    0.0   \n",
       "88757           0.0             0.0           0.0                    0.0   \n",
       "95341          20.0             0.0           0.0                    0.0   \n",
       "101925         48.0             3.0           0.0                    0.0   \n",
       "108509          8.0             1.0           0.0                    0.0   \n",
       "115093          0.0             0.0           0.0                    0.0   \n",
       "121677          0.0             0.0           0.0                    0.0   \n",
       "128261          0.0             0.0           0.0                    0.0   \n",
       "134845         40.0             0.0           0.0                    0.0   \n",
       "141429         28.0             0.0           0.0                    0.0   \n",
       "148013         43.0             0.0           0.0                    0.0   \n",
       "154597          5.0             0.0           0.0                    0.0   \n",
       "161181         21.0             0.0           0.0                    0.0   \n",
       "167765         20.0             0.0           0.0                    0.0   \n",
       "\n",
       "        mean_winter_tas  mean_feb_tas  smh_wbt_lower2  season_duration  \n",
       "3165           4.487640           NaN           804.0              0.0  \n",
       "9749           4.985199      3.820404           246.0              3.0  \n",
       "16333          5.908173      1.633514           294.0              0.0  \n",
       "22917          6.348419      3.243774           212.0              0.0  \n",
       "29501          2.732513      4.915833           718.0              0.0  \n",
       "36085          5.749969      1.513397           494.0              0.0  \n",
       "42669          5.552704      5.000244           257.0              0.0  \n",
       "49253          5.791412      2.750244           273.0              0.0  \n",
       "55837          5.042023      4.694885           309.0              0.0  \n",
       "62421          4.953827      3.852478           141.0              0.0  \n",
       "69005          5.690826      0.728668           788.0              0.0  \n",
       "75589          5.886108      4.449432           508.0              0.0  \n",
       "82173          5.647888      7.788391           372.0              0.0  \n",
       "88757          5.205566      5.205017           250.0              0.0  \n",
       "95341          4.731110      4.729431           233.0              0.0  \n",
       "101925         3.607147      0.167450           130.0              2.0  \n",
       "108509         6.392365      0.086426           174.0              0.0  \n",
       "115093         4.905182      5.562317           296.0              0.0  \n",
       "121677         5.680206      4.993835           400.0              0.0  \n",
       "128261         6.362427      3.258148            53.0              0.0  \n",
       "134845         4.576508      6.561462           378.0              0.0  \n",
       "141429         3.606171      1.147003           275.0              0.0  \n",
       "148013         4.994568     -1.023041           325.0              0.0  \n",
       "154597         5.946655      3.106689           223.0              0.0  \n",
       "161181         6.655304      4.626312           384.0              0.0  \n",
       "167765         5.827667      4.903503            94.0              0.0  "
      ]
     },
     "execution_count": 30,
     "metadata": {},
     "output_type": "execute_result"
    }
   ],
   "source": [
    "milano=df[df.NUTS3_ID==b'ITC4C'] # Milano - Lombardy\n",
    "milano['mean_winter_tas']=milano.mean_winter_tas-273.15\n",
    "milano['mean_feb_tas']=milano.mean_feb_tas-273.15\n",
    "milano['season_duration']=milano.end_of_season-milano.beginning_of_season\n",
    "milano"
   ]
  }
 ],
 "metadata": {
  "kernelspec": {
   "display_name": "base",
   "language": "python",
   "name": "python3"
  },
  "language_info": {
   "codemirror_mode": {
    "name": "ipython",
    "version": 3
   },
   "file_extension": ".py",
   "mimetype": "text/x-python",
   "name": "python",
   "nbconvert_exporter": "python",
   "pygments_lexer": "ipython3",
   "version": "3.9.12"
  },
  "orig_nbformat": 4
 },
 "nbformat": 4,
 "nbformat_minor": 2
}
